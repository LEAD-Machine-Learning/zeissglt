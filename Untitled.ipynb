{
 "cells": [
  {
   "cell_type": "code",
   "execution_count": 7,
   "id": "64075c11-5294-4b6a-ac02-6397fd1f076f",
   "metadata": {},
   "outputs": [
    {
     "name": "stdout",
     "output_type": "stream",
     "text": [
      "Connection established\n",
      "Finished dropping table (if existed)\n",
      "Finished creating table\n",
      "temp = 24.00 C \t humidity =37.00% \t light = 191 \t sound_value = 69 \t ultrasonic_ranger = 493\n"
     ]
    },
    {
     "ename": "UndefinedColumn",
     "evalue": "column \"humidity_sensor\" of relation \"inventory\" does not exist\nLINE 1: INSERT INTO inventory (temperature_sensor, humidity_sensor, ...\n                                                   ^\n",
     "output_type": "error",
     "traceback": [
      "\u001b[0;31m---------------------------------------------------------------------------\u001b[0m",
      "\u001b[0;31mUndefinedColumn\u001b[0m                           Traceback (most recent call last)",
      "\u001b[0;32m/tmp/ipykernel_1825/3964642896.py\u001b[0m in \u001b[0;36m<module>\u001b[0;34m\u001b[0m\n\u001b[1;32m     59\u001b[0m \u001b[0;34m\u001b[0m\u001b[0m\n\u001b[1;32m     60\u001b[0m         \u001b[0;31m# insert data into the database (here: \"inventory\")\u001b[0m\u001b[0;34m\u001b[0m\u001b[0;34m\u001b[0m\u001b[0;34m\u001b[0m\u001b[0m\n\u001b[0;32m---> 61\u001b[0;31m         \u001b[0mcursor\u001b[0m\u001b[0;34m.\u001b[0m\u001b[0mexecute\u001b[0m\u001b[0;34m(\u001b[0m\u001b[0;34m\"INSERT INTO inventory (temperature_sensor, humidity_sensor, light_sensor, sound_sensor, ultrasonic_ranger_sensor, date, time) VALUES (%s, %s, %s, %s, %s, %s, %s);\"\u001b[0m\u001b[0;34m,\u001b[0m \u001b[0;34m(\u001b[0m\u001b[0mtemp\u001b[0m\u001b[0;34m,\u001b[0m \u001b[0mhumidity\u001b[0m\u001b[0;34m,\u001b[0m \u001b[0mlight_value\u001b[0m\u001b[0;34m,\u001b[0m \u001b[0msound_value\u001b[0m\u001b[0;34m,\u001b[0m \u001b[0multrasonic_ranger_value\u001b[0m\u001b[0;34m,\u001b[0m \u001b[0mdate\u001b[0m\u001b[0;34m,\u001b[0m \u001b[0mtime\u001b[0m\u001b[0;34m)\u001b[0m\u001b[0;34m)\u001b[0m\u001b[0;34m\u001b[0m\u001b[0;34m\u001b[0m\u001b[0m\n\u001b[0m\u001b[1;32m     62\u001b[0m \u001b[0;34m\u001b[0m\u001b[0m\n\u001b[1;32m     63\u001b[0m         \u001b[0mtime\u001b[0m\u001b[0;34m.\u001b[0m\u001b[0msleep\u001b[0m\u001b[0;34m(\u001b[0m\u001b[0;36m1\u001b[0m\u001b[0;34m)\u001b[0m\u001b[0;34m\u001b[0m\u001b[0;34m\u001b[0m\u001b[0m\n",
      "\u001b[0;31mUndefinedColumn\u001b[0m: column \"humidity_sensor\" of relation \"inventory\" does not exist\nLINE 1: INSERT INTO inventory (temperature_sensor, humidity_sensor, ...\n                                                   ^\n"
     ]
    }
   ],
   "source": [
    "# import libraries\n",
    "import time\n",
    "import grovepi\n",
    "import grove_rgb_lcd\n",
    "import math\n",
    "import psycopg2\n",
    "import time\n",
    "from datetime import datetime\n",
    "import random\n",
    "\n",
    "# Sensor connections:\n",
    "temp_humidity_sensor = 4  # The Sensor goes on digital port D4.\n",
    "light_sensor = 1 # Connect the Grove Light Sensor to analog port A1\n",
    "sound_sensor = 0 # Connect the Grove Sound Sensor to analog port A0\n",
    "ultrasonic_ranger = 5 # Connect the Grove Ultrasonic Ranger to digital port D5\n",
    "\n",
    "# Define Pin Mode\n",
    "grovepi.pinMode(temp_humidity_sensor,\"INPUT\")\n",
    "grovepi.pinMode(light_sensor,\"INPUT\")\n",
    "grovepi.pinMode(sound_sensor,\"INPUT\")\n",
    "grovepi.pinMode(ultrasonic_ranger,\"INPUT\")\n",
    "\n",
    "# temp_humidity_sensor_type\n",
    "blue = 0   # The Blue colored sensor.\n",
    "\n",
    "\n",
    "# open connection to database\n",
    "conn = psycopg2.connect(dbname='postgres', user='nimda@iot-zeiss-2504', host='iot-zeiss-2504.postgres.database.azure.com', password='leadml-2022', port='5432', sslmode='require')\n",
    "cursor = conn.cursor()\n",
    "print(\"Connection established\")\n",
    "\n",
    "cursor.execute(\"DROP TABLE IF EXISTS felix_test;\")\n",
    "print(\"Finished dropping table (if existed)\")\n",
    "\n",
    "cursor.execute(\"CREATE TABLE felix_test (id serial PRIMARY KEY, temperature_sensor FLOAT8, humidity_sensor FLOAT8, light_sensor FLOAT8, sound_sensor FLOAT8, ultrasonic_ranger_sensor FLOAT8, date DATE, time TIME);\")\n",
    "print(\"Finished creating table\")\n",
    "\n",
    "while True:\n",
    "    try:\n",
    "        # This example uses the blue colored sensor. \n",
    "        # The first parameter is the port, the second parameter is the type of sensor.\n",
    "        \n",
    "        # get sensor value  \n",
    "        ultrasonic_ranger_value = grovepi.ultrasonicRead(ultrasonic_ranger)\n",
    "        #ultrasonic_ranger = 0\n",
    "        light_value = grovepi.analogRead(light_sensor)\n",
    "        #light_value = 1\n",
    "        sound_value = grovepi.analogRead(sound_sensor)\n",
    "        #sound_value = 0\n",
    "        [temp,humidity] = grovepi.dht(temp_humidity_sensor,blue)\n",
    "      \n",
    "        # Calculate resistance of sensor in K\n",
    "        #resistance = (float)(1023 - light_value) * 10 / light_value\n",
    "        \n",
    "        date = datetime.today().strftime(\"%Y-%m-%d\")\n",
    "        time = datetime.today().strftime(\"%H:%M:%S\")\n",
    "        \n",
    "        print(\"temp = %.02f C \\t humidity =%.02f%% \\t light = %d \\t sound_value = %d \\t ultrasonic_ranger = %d\" %(temp, humidity, light_value, sound_value, ultrasonic_ranger_value))\n",
    "        \n",
    "        # insert data into the database (here: \"inventory\")\n",
    "        cursor.execute(\"INSERT INTO inventory (temperature_sensor, humidity_sensor\n",
    "                       #, light_sensor, sound_sensor, ultrasonic_ranger_sensor, date, time) VALUES (%s, %s, %s, %s, %s, %s, %s);\", (temp, humidity, light_value, sound_value, ultrasonic_ranger_value, date, time))\n",
    "\n",
    "        time.sleep(1)\n",
    "        \n",
    "\n",
    "    except IOError:\n",
    "        print (\"Error\")\n",
    "\n",
    "    except KeyboardInterrupt:\n",
    "        conn.commit()\n",
    "        cursor.close()\n",
    "        conn.close()\n",
    "        print(\"connection closed\")\n",
    "        break"
   ]
  },
  {
   "cell_type": "code",
   "execution_count": null,
   "id": "615e808a-04be-4042-a491-eca17f6571d7",
   "metadata": {},
   "outputs": [],
   "source": []
  }
 ],
 "metadata": {
  "kernelspec": {
   "display_name": "Python 3 (ipykernel)",
   "language": "python",
   "name": "python3"
  },
  "language_info": {
   "codemirror_mode": {
    "name": "ipython",
    "version": 3
   },
   "file_extension": ".py",
   "mimetype": "text/x-python",
   "name": "python",
   "nbconvert_exporter": "python",
   "pygments_lexer": "ipython3",
   "version": "3.7.3"
  }
 },
 "nbformat": 4,
 "nbformat_minor": 5
}
