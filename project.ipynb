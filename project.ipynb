{
 "cells": [
  {
   "cell_type": "code",
   "execution_count": null,
   "id": "3af57b32-c517-4463-bb5e-3b7727324afe",
   "metadata": {},
   "outputs": [],
   "source": [
    "# import libraries\n",
    "\n"
   ]
  },
  {
   "cell_type": "code",
   "execution_count": null,
   "id": "76a56b81-f539-4bfb-9ee2-ae81a13dde5c",
   "metadata": {},
   "outputs": [],
   "source": [
    "# open connection to database\n",
    "\n",
    "\n",
    "# delete table\n",
    "\n",
    "\n",
    "# create table\n",
    "\n",
    "\n",
    "#close connection to database\n",
    "\n"
   ]
  },
  {
   "cell_type": "code",
   "execution_count": null,
   "id": "80f1e57b-413d-49ab-90d1-cf1c3b919cea",
   "metadata": {},
   "outputs": [],
   "source": [
    "# open connection to database\n",
    "\n",
    "\n",
    "# Sensor connections:\n",
    "\n",
    "\n",
    "# Define Pin Mode\n",
    "\n",
    "\n",
    "# loop to collect data\n",
    "while True:\n",
    "    try:      \n",
    "        # get sensor value  \n",
    "\n",
    "        \n",
    "        # set date and time\n",
    "\n",
    "        \n",
    "        # print statement to see code progress (normally not best practice in coding, but helpful to learn programming)\n",
    "        \n",
    "        # insert data into your project database\n",
    "        \n",
    "        # wait for 1 second\n",
    "        time.sleep(1)\n",
    "        \n",
    "\n",
    "    except IOError:\n",
    "        print (\"Error\")\n",
    "\n",
    "    except KeyboardInterrupt:\n",
    "        # close connection\n",
    "\n",
    "        break"
   ]
  }
 ],
 "metadata": {
  "kernelspec": {
   "display_name": "Python 3 (ipykernel)",
   "language": "python",
   "name": "python3"
  },
  "language_info": {
   "codemirror_mode": {
    "name": "ipython",
    "version": 3
   },
   "file_extension": ".py",
   "mimetype": "text/x-python",
   "name": "python",
   "nbconvert_exporter": "python",
   "pygments_lexer": "ipython3",
   "version": "3.9.7"
  }
 },
 "nbformat": 4,
 "nbformat_minor": 5
}
