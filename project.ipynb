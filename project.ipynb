{
 "cells": [
  {
   "cell_type": "markdown",
   "id": "38b382a8-895a-474b-b669-584b55a4fecd",
   "metadata": {},
   "source": [
    "# Project Notebook\n",
    "In this notebook you can build the code for your project. The suggested structure of the code is given by the comments. Follow them and fill in what you need to implement your solution."
   ]
  },
  {
   "cell_type": "code",
   "execution_count": null,
   "id": "3af57b32-c517-4463-bb5e-3b7727324afe",
   "metadata": {},
   "outputs": [],
   "source": [
    "# import libraries\n",
    "import time\n",
    "import grovepi\n",
    "import math\n",
    "import psycopg2\n",
    "import time\n",
    "from datetime import datetime"
   ]
  },
  {
   "cell_type": "markdown",
   "id": "24c51095-1355-4e23-a2a4-3fb426c2c902",
   "metadata": {},
   "source": [
    "You need to **fill in the password** to build up the connection! Run this cell to create a table or delete your table and start over again:"
   ]
  },
  {
   "cell_type": "code",
   "execution_count": null,
   "id": "76a56b81-f539-4bfb-9ee2-ae81a13dde5c",
   "metadata": {},
   "outputs": [],
   "source": [
    "# open connection to database\n",
    "conn = psycopg2.connect(\n",
    "    dbname='postgres', \n",
    "    user='nimda@iot-zeiss-2504', \n",
    "    host='iot-zeiss-2504.postgres.database.azure.com', \n",
    "    password='', \n",
    "    port='5432', \n",
    "    sslmode='require')\n",
    "\n",
    "# create cursor\n",
    "cursor = conn.cursor()\n",
    "print(\"Connection established\")\n",
    "\n",
    "# create table\n",
    "cursor.execute(\"\"\"\n",
    "YOUR_CODE\n",
    "\"\"\")\n",
    "\n",
    "#close connection to database\n",
    "conn.commit()\n",
    "cursor.close()\n",
    "conn.close()\n",
    "print(\"connection closed\")"
   ]
  },
  {
   "cell_type": "markdown",
   "id": "0dbd2409-65f5-4abb-bd0c-f067a47971c2",
   "metadata": {},
   "source": [
    "You need to **fill in the password** to build up the connection! Run this cell to collect data "
   ]
  },
  {
   "cell_type": "code",
   "execution_count": null,
   "id": "80f1e57b-413d-49ab-90d1-cf1c3b919cea",
   "metadata": {},
   "outputs": [],
   "source": [
    "# open connection to database\n",
    "conn = psycopg2.connect(\n",
    "    dbname='postgres', \n",
    "    user='nimda@iot-zeiss-2504', \n",
    "    host='iot-zeiss-2504.postgres.database.azure.com', \n",
    "    password='', \n",
    "    port='5432', \n",
    "    sslmode='require')\n",
    "\n",
    "# create cursor\n",
    "cursor = conn.cursor()\n",
    "print(\"Connection established\")\n",
    "\n",
    "# Sensor connections:\n",
    "any_sensor = YOUR_CODE # Port of sensor\n",
    "other_sensor = YOUR_CODE # Port of sensor\n",
    "\n",
    "# Define Pin Mode\n",
    "grovepi.pinMode(any_sensor,\"INPUT\")\n",
    "grovepi.pinMode(other_sensor,\"INPUT\")\n",
    "\n",
    "# loop to collect data\n",
    "while True:\n",
    "    try:      \n",
    "        # get sensor value  \n",
    "        any_sensor_value = YOUR_CODE\n",
    "        other_sensor_value = YOUR_CODE\n",
    "        \n",
    "        # set date and time\n",
    "        date_str = datetime.today().strftime(\"%Y-%m-%d\")\n",
    "        time_str = datetime.today().strftime(\"%H:%M:%S\")\n",
    "        \n",
    "        # print statement to see code progress (normally not best practice in coding, but helpful to learn programming)\n",
    "        print(f\"Sensor = {any_sensor_value} YOUR_CODE \")\n",
    "        \n",
    "        \n",
    "        # insert data into your project database\n",
    "        cursor.execute(\"\"\"YOUR_CODE\"\"\", (YOUR_CODE))\n",
    "       \n",
    "        \n",
    "        # wait for 1 second\n",
    "        time.sleep(1)\n",
    "        \n",
    "\n",
    "    except IOError:\n",
    "        print (\"Error\")\n",
    "\n",
    "    except KeyboardInterrupt:\n",
    "        # close connection\n",
    "\n",
    "        break"
   ]
  }
 ],
 "metadata": {
  "kernelspec": {
   "display_name": "Python 3 (ipykernel)",
   "language": "python",
   "name": "python3"
  },
  "language_info": {
   "codemirror_mode": {
    "name": "ipython",
    "version": 3
   },
   "file_extension": ".py",
   "mimetype": "text/x-python",
   "name": "python",
   "nbconvert_exporter": "python",
   "pygments_lexer": "ipython3",
   "version": "3.9.7"
  }
 },
 "nbformat": 4,
 "nbformat_minor": 5
}
