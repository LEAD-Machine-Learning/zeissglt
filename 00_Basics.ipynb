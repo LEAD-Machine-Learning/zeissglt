{
 "cells": [
  {
   "cell_type": "markdown",
   "id": "535096f6-e2ae-47d4-b047-6ce889cd28e1",
   "metadata": {
    "tags": []
   },
   "source": [
    "# Basics Notebook\n",
    "In this notebook you find basics about the technology used in the hackathon. It might help you to read through it, once you are stuck. In this notebook you will find:\n",
    "\n",
    "* [Juypter Notebook basics](#jnp-bullet)\n",
    "* [Python basics](#first-bullet)\n",
    "* [SQL basics](#second-bullet)\n",
    "* [Basics on Raspberry pi and linux](#third-bullet)"
   ]
  },
  {
   "cell_type": "markdown",
   "id": "e920b27b-eb7c-46ea-a065-079dab4255cd",
   "metadata": {},
   "source": [
    "## Juypter Notebook basics <a class=\"anchor\" id=\"jnp-bullet\"></a>"
   ]
  },
  {
   "cell_type": "markdown",
   "id": "bd00df41-ec50-4900-8d4d-2223d082ce59",
   "metadata": {},
   "source": [
    "# STILL WORK TO DO"
   ]
  },
  {
   "cell_type": "markdown",
   "id": "ed8eac53-3dc7-4688-9e09-04df380db0f7",
   "metadata": {
    "tags": []
   },
   "source": [
    "## Python basics <a class=\"anchor\" id=\"first-bullet\"></a>"
   ]
  },
  {
   "cell_type": "markdown",
   "id": "833d6cf1-afc6-47ac-a799-52ecc01e9c4e",
   "metadata": {
    "tags": []
   },
   "source": [
    "### Intro\n",
    "\n",
    "Python is a popular programming language. It is used for:\n",
    "\n",
    "- web development (server-side),\n",
    "- software development,\n",
    "- mathematics,\n",
    "- system scripting.\n",
    "\n",
    "What can Python do?\n",
    "\n",
    "- Python can be used on a server to create web applications.\n",
    "- Python can be used alongside software to create workflows.\n",
    "- Python can connect to database systems. It can also read and modify files.\n",
    "- Python can be used to handle big data and perform complex mathematics.\n",
    "- Python can be used for rapid prototyping, or for production-ready software development.\n",
    "\n",
    "Why Python?\n",
    "\n",
    "- Python works on different platforms (Windows, Mac, Linux, Raspberry Pi, etc).\n",
    "- Python has a simple syntax similar to the English language.\n",
    "- Python has syntax that allows developers to write programs with fewer lines than some other programming languages.\n",
    "- Python runs on an interpreter system, meaning that code can be executed as soon as it is written. This means - that prototyping can be very quick.\n",
    "- Python can be treated in a procedural way, an object-oriented way or a functional way.\n",
    "\n",
    "\n",
    "Good to know\n",
    "\n",
    "- The most recent major version of Python is Python 3, which we shall be using in this Hackathon. However, Python 2, although not being updated with anything other than security updates, is still quite popular.\n",
    "- In the Hackathon Format Python will be written in a Jupyter Notebook. It is possible to write Python in an Integrated Development Environment, such as Thonny, Pycharm, Netbeans or Eclipse which are particularly useful when managing larger collections of Python files.\n",
    "\n",
    "Python Syntax compared to other programming languages\n",
    "\n",
    "- Python was designed for readability, and has some similarities to the English language with influence from mathematics.\n",
    "- Python uses new lines to complete a command, as opposed to other programming languages which often use semicolons or parentheses.\n",
    "- Python relies on indentation, using whitespace, to define scope; such as the scope of loops, functions and classes. Other programming languages often use curly-brackets for this purpose.\n",
    "\n",
    "\n",
    "\n",
    "Every Python training starts with the \"Hello, World!\" print statement. Execute the following cell:"
   ]
  },
  {
   "cell_type": "code",
   "execution_count": null,
   "id": "6cc527bd-53b3-41c0-9fe4-d8a04c9263e6",
   "metadata": {},
   "outputs": [],
   "source": [
    "print(\"Hello, World!\")"
   ]
  },
  {
   "cell_type": "markdown",
   "id": "0b843c93-5758-4588-a548-be258feb9979",
   "metadata": {},
   "source": [
    "### Python Indentation\n",
    "\n",
    "Indentation refers to the spaces at the beginning of a code line.<br>\n",
    "Where in other programming languages the indentation in code is for readability only, the indentation in Python is very important.<br>\n",
    "Python uses indentation to indicate a block of code."
   ]
  },
  {
   "cell_type": "code",
   "execution_count": 2,
   "id": "d36ada67-fc27-45b3-9125-7b7f7db96120",
   "metadata": {},
   "outputs": [
    {
     "name": "stdout",
     "output_type": "stream",
     "text": [
      "Five is greater than two!\n"
     ]
    }
   ],
   "source": [
    "if 5 > 2:\n",
    "    print(\"Five is greater than two!\")"
   ]
  },
  {
   "cell_type": "markdown",
   "id": "b78d0cc0-e273-4fb7-a576-0017a6d5bdd8",
   "metadata": {},
   "source": [
    "### Python Comments\n",
    "\n",
    "Comments can be used to explain Python code.<br>\n",
    "Comments can be used to make the code more readable.<br>\n",
    "Comments can be used to prevent execution when testing code."
   ]
  },
  {
   "cell_type": "code",
   "execution_count": null,
   "id": "51d13af5-4051-4845-9597-399d469568d5",
   "metadata": {},
   "outputs": [],
   "source": [
    "#This is a comment\n",
    "print(\"Hello, World!\")"
   ]
  },
  {
   "cell_type": "code",
   "execution_count": null,
   "id": "9af3fc70-a955-4256-9364-901cfd441f4f",
   "metadata": {},
   "outputs": [],
   "source": [
    "print(\"Hello, World!\") #This is a comment"
   ]
  },
  {
   "cell_type": "code",
   "execution_count": null,
   "id": "1ce8d16f-94fa-48a7-92ef-bda25ce85716",
   "metadata": {},
   "outputs": [],
   "source": [
    "#print(\"Hello, World!\")\n",
    "print(\"Cheers, Mate!\")"
   ]
  },
  {
   "cell_type": "markdown",
   "id": "a900b399-c769-4802-ae89-6cdda652c803",
   "metadata": {},
   "source": [
    "### Python Variables\n",
    "\n",
    "Variables are containers for storing data values.\n",
    "\n",
    "Creating Variables: Python has no command for declaring a variable. A variable is created the moment you first assign a value to it."
   ]
  },
  {
   "cell_type": "code",
   "execution_count": null,
   "id": "66c74834-ea00-4be4-8df2-01ba77774944",
   "metadata": {},
   "outputs": [],
   "source": [
    "x = 5\n",
    "y = \"John\"\n",
    "print(x)\n",
    "print(y)"
   ]
  },
  {
   "cell_type": "code",
   "execution_count": null,
   "id": "a8d48359-5016-4363-8a96-d10ef675484f",
   "metadata": {},
   "outputs": [],
   "source": [
    "x = 4       # x is of type int\n",
    "x = \"Sally\" # x is now of type str\n",
    "print(x)"
   ]
  },
  {
   "cell_type": "markdown",
   "id": "779d560f-efe3-4475-a9e1-5f592814db2f",
   "metadata": {},
   "source": [
    "### Python Booleans\n",
    "\n",
    "Booleans represent one of two values: True or False.\n",
    "\n",
    "In programming you often need to know if an expression is True or False.\n",
    "\n",
    "You can evaluate any expression in Python, and get one of two answers, True or False.\n",
    "\n",
    "When you compare two values, the expression is evaluated and Python returns the Boolean answer:"
   ]
  },
  {
   "cell_type": "code",
   "execution_count": null,
   "id": "6fd5681a-c61c-4e85-806a-3ac5938e5bdd",
   "metadata": {},
   "outputs": [],
   "source": [
    "print(10 > 9)\n",
    "print(10 == 9)\n",
    "print(10 < 9)"
   ]
  },
  {
   "cell_type": "markdown",
   "id": "1b0ad7e5-31cc-45e8-ae07-9082b507a277",
   "metadata": {},
   "source": [
    "### Python If ... Else\n",
    "\n",
    "Python Conditions and If statements\n",
    "Python supports the usual logical conditions from mathematics:\n",
    "\n",
    "- Equals: a == b\n",
    "- Not Equals: a != b\n",
    "- Less than: a < b\n",
    "- Less than or equal to: a <= b\n",
    "- Greater than: a > b\n",
    "- Greater than or equal to: a >= b\n",
    "\n",
    "These conditions can be used in several ways, most commonly in \"if statements\" and loops.\n",
    "\n",
    "An \"if statement\" is written by using the if keyword."
   ]
  },
  {
   "cell_type": "code",
   "execution_count": null,
   "id": "ec8935d1-e536-4048-9c09-86cb34c1be31",
   "metadata": {},
   "outputs": [],
   "source": [
    "a = 33\n",
    "b = 200\n",
    "if b > a:\n",
    "  print(\"b is greater than a\")"
   ]
  },
  {
   "cell_type": "markdown",
   "id": "a14e06fc-f9e5-4084-bc01-8e1d59a607f5",
   "metadata": {},
   "source": [
    "In this example we use two variables, a and b, which are used as part of the if statement to test whether b is greater than a. As a is 33, and b is 200, we know that 200 is greater than 33, and so we print to screen that \"b is greater than a\"."
   ]
  },
  {
   "cell_type": "markdown",
   "id": "8c1cd00e-7bdc-4507-a189-faa4baf66b85",
   "metadata": {},
   "source": [
    "### Python While Loops\n",
    "\n",
    "Python has two primitive loop commands:\n",
    "\n",
    "- while loops\n",
    "- for loops\n",
    "\n"
   ]
  },
  {
   "cell_type": "code",
   "execution_count": null,
   "id": "674bf2c5-d750-4b37-8b38-2a91e386cdfe",
   "metadata": {},
   "outputs": [],
   "source": [
    "i = 1\n",
    "while i < 6:\n",
    "  print(i)\n",
    "  i += 1"
   ]
  },
  {
   "cell_type": "markdown",
   "id": "07293459-49c9-42d7-a10a-5d2f9b8ec735",
   "metadata": {},
   "source": [
    "### Infinite loop\n",
    "\n",
    "# STILL WORK TO DO"
   ]
  },
  {
   "cell_type": "markdown",
   "id": "3ee8425a-dd8f-40f3-803e-24d60e741774",
   "metadata": {},
   "source": [
    "### Bug fixing\n",
    "\n",
    "First approach to find a solution for an error is pretty straight forward: copy the error message to google\n",
    "\n",
    "...\n",
    "\n",
    "# STILL WORK TO DO"
   ]
  },
  {
   "cell_type": "markdown",
   "id": "663bd6a5-34d0-4616-8d52-28bd44a72d3a",
   "metadata": {},
   "source": [
    "Content of notebook adapted from: https://www.w3schools.com/python/python_intro.asp"
   ]
  },
  {
   "cell_type": "markdown",
   "id": "2ed7a8b6-375d-4803-b30f-5aacd20f640e",
   "metadata": {
    "tags": []
   },
   "source": [
    "## SQL basics <a class=\"anchor\" id=\"second-bullet\"></a>"
   ]
  },
  {
   "cell_type": "markdown",
   "id": "2a5bd821-26d3-4650-8400-0c4ad63e6c25",
   "metadata": {},
   "source": [
    "SQL is a standard language for storing, manipulating and retrieving data in databases. We will use it to communicate with our database.\n",
    "\n",
    "### SQL command basics \n",
    "\n",
    "- SQL commands are often (also here) capitalized to differentiate between them and the content of the command. However, you do not have to write them capitalized.\n",
    "- SQL commands end with \";\"\n",
    "\n",
    "### CREATE TABLE\n",
    "\n",
    "The command to create a new table in the database is:\n",
    "\n",
    "`CREATE table_name (`<br>\n",
    "`   column1 datatype,`<br>\n",
    "`   column2 datatype,`<br>\n",
    "`   column3 datatype`<br>\n",
    "`);`\n",
    "\n",
    "- Often you will find columns like 'id' as identifiers for each rows as an index (also called PRIMARY KEY of the table)\n",
    "- A column with the time and date of the creation of the row helps set to set the temporal context (date and time can be stored in one column 'datetime' or in seperate columns 'date' and 'time'\n",
    "- IMPORTANT: after each column needs to be a comma! \n",
    "\n",
    "The argument SERIAL makes that the column automatically adds a value and increases it by 1 every time you add another row. This means the column 'id' will have the values 0,1,2,3,4,5,...\n",
    "\n",
    "Example of Syntax for a table called 'project_grou_20' with 6 columns:\n",
    "\n",
    "`CREATE TABLE project_group_20 (`<br>\n",
    "`   id SERIAL PRIMARY KEY,`<br>\n",
    "`   air_sensor FLOAT8,`<br>\n",
    "`   sound_sensor FLOAT8,`<br>\n",
    "`   temperature_sensor FLOAT8`<br>\n",
    "`   date DATE,`<br>\n",
    "`   time TIME`<br>\n",
    "`);`\n",
    "\n",
    "Datatypes used for our use-case:\n",
    "\n",
    "- PRIMARY KEY - a column with unique integers to identify the rows\n",
    "- FLOAT8 - decimal number\n",
    "- DATE - a date in the form year-month-day\n",
    "- TIME - a time in the form 00:00:00 (Hours-Minutes-seconds)\n",
    "\n",
    "### INSERT INTO\n",
    "\n",
    "The command to insert new data into the database is:\n",
    "\n",
    "`INSERT INTO table_name(column1, column2, …) VALUES (value1, value2, …);`\n",
    "\n",
    "With this command you can insert one row at a time.\n",
    "\n",
    "Hint: The column 'id' is filled automatically, if you use the 'SERIAL' command after the column name\n",
    "\n",
    "### SELECT\n",
    "\n",
    "The command to select data from the database is: \n",
    "\n",
    "`SELECT`<br>\n",
    "   `select_list`<br>\n",
    "`FROM`<br>\n",
    "   `table_name;`\n",
    "   \n",
    "- The select list can be a column or a list of columns.\n",
    "- Instead of listing your columns you can also write '*' instead, to select all columns from the table\n",
    "\n",
    "### DROP TABLE IF EXISTS\n",
    "\n",
    "The command to drop a table (if exists) is: \n",
    "\n",
    "`DROP TABLE IF EXISTS table_name;`\n",
    "\n",
    "- It will permanently delete the whole table, if one exists with this name in the database.\n",
    "- **!!! BE CAREFUL NOT TO DELETE TABLES OF OTHER TEAMS!!!**\n",
    "- This command can use this to reset a table when you combine this command with the CREATE TABLE command."
   ]
  },
  {
   "cell_type": "markdown",
   "id": "6916d25d-8ac9-4e28-bfc1-511ba8deaea0",
   "metadata": {
    "tags": []
   },
   "source": [
    "## Basics on Raspberry pi and linux <a class=\"anchor\" id=\"third-bullet\"></a>"
   ]
  },
  {
   "cell_type": "markdown",
   "id": "40d4d61c-f631-45a2-ad69-1a347c3c82dc",
   "metadata": {},
   "source": [
    "### Assemble, connect and start raspberry pi\n",
    "\n",
    "On your table you have all the components to assemble your raspberry pi and connect it to the accessories and the internet. To start the raspberry pi you need to plug in:\n",
    "- the mouse via USB cable\n",
    "- the keyboard via USB cable\n",
    "- the monitor via HDMI cable\n",
    "- ensure the micro SD card is inserted\n",
    "- finally, you plug in the power cable via USB-C and the raspberry should start \n",
    "\n",
    "\n",
    "### Basics about raspberry pi\n",
    "\n",
    "The Raspberry Pi is a low cost, credit-card sized computer that plugs into a computer monitor or TV, and uses a standard keyboard and mouse. It is a capable little device that enables people of all ages to explore computing, and to learn how to program in languages like Scratch and Python. It’s capable of doing everything you’d expect a desktop computer to do, from browsing the internet and playing high-definition video, to making spreadsheets, word-processing, and playing games.\n",
    "\n",
    "What’s more, the Raspberry Pi  has the ability to interact with the outside world, and has been used in a wide array of digital maker projects, from music machines and parent detectors to weather stations and tweeting birdhouses with infra-red cameras. We want to see the Raspberry Pi being used by kids all over the world to learn to program and understand how computers work. Your Raspberry Pi needs an operating system to work. This is it. Raspberry Pi OS is based on linux.\n",
    "\n",
    "### Basics about linux\n",
    "\n",
    "Linux is a family of free and open-source operating systems based on the Linux kernel. Operating systems based on Linux are known as Linux distributions or distros. Examples include Debian, Ubuntu, Fedora, CentOS, Gentoo, Arch Linux, and many others.\n",
    "\n",
    "The Linux kernel has been under active development since 1991, and has proven to be extremely versatile and adaptable. You can find computers that run Linux in a wide variety of contexts all over the world, from web servers to cell phones. Today, 90% of all cloud infrastructure and 74% of the world’s smartphones are powered by Linux.\n",
    "\n",
    "### Connect to wifi\n",
    "\n",
    "How to set up wifi on your raspberry pi:\n",
    "- On the top you have the main panel, with the menu, shortcuts and the clock.\n",
    "- Near the clock, there is a network symbol (with two red crosses if you are disconnected).\n",
    "- Click on it, a list of all available wireless networks appears.\n",
    "- Select your network in the list, and type your password.\n",
    "\n",
    "### Connect via SSH\n",
    "\n",
    "SSH stands for Secure Shell. It allows you to remotely connect to a server or system from another device using encrypted communications.\n",
    "\n",
    "The primary benefit of SSH is the encryption itself. With less secure remote login protocols, such as FTP, everything is sent in plain text. A hacker can sniff out those communications and log things like usernames and passwords. Since SSH is encrypted, that’s no longer possible.\n",
    "\n",
    "One way to turn on SSH is through the Raspberry Pi graphical configuration app. Just click the Raspberry icon in the top left corner of the screen, then click “Preferences.” Click “Raspberry Pi Configuration.”\n",
    "\n",
    "In this app, click the “Interfaces” tab and look for “SSH.” Click the “Enable” radio button, then click “OK” to close the app.\n",
    "\n",
    "Log Into Your Raspberry Pi From Another Computer: \n",
    "\n",
    "Once those steps are complete, you’re ready to log into your Raspberry Pi from any computer on your local network. With the IP address or hostname you noted earlier, you can ssh into your Pi. That’s done using this command from your other computer:\n",
    "\n",
    "`ssh pi@[address]`\n",
    "\n",
    "If your Raspberry Pi’s address is 192.168.0.200 , for example, it will look like this:\n",
    "\n",
    "`ssh pi@192.168.0.200`\n"
   ]
  }
 ],
 "metadata": {
  "kernelspec": {
   "display_name": "Python 3 (ipykernel)",
   "language": "python",
   "name": "python3"
  },
  "language_info": {
   "codemirror_mode": {
    "name": "ipython",
    "version": 3
   },
   "file_extension": ".py",
   "mimetype": "text/x-python",
   "name": "python",
   "nbconvert_exporter": "python",
   "pygments_lexer": "ipython3",
   "version": "3.9.7"
  }
 },
 "nbformat": 4,
 "nbformat_minor": 5
}
