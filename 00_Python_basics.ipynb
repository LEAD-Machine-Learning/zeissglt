{
 "cells": [
  {
   "cell_type": "markdown",
   "id": "535096f6-e2ae-47d4-b047-6ce889cd28e1",
   "metadata": {},
   "source": [
    "# Python basics Notebook"
   ]
  },
  {
   "cell_type": "code",
   "execution_count": null,
   "id": "cf50febf-42d6-4327-97bf-746eb92f6c07",
   "metadata": {},
   "outputs": [],
   "source": []
  }
 ],
 "metadata": {
  "kernelspec": {
   "display_name": "Python 3 (ipykernel)",
   "language": "python",
   "name": "python3"
  },
  "language_info": {
   "codemirror_mode": {
    "name": "ipython",
    "version": 3
   },
   "file_extension": ".py",
   "mimetype": "text/x-python",
   "name": "python",
   "nbconvert_exporter": "python",
   "pygments_lexer": "ipython3",
   "version": "3.9.7"
  }
 },
 "nbformat": 4,
 "nbformat_minor": 5
}
