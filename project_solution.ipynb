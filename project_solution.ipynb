{
 "cells": [
  {
   "cell_type": "markdown",
   "id": "799f7ad7-df39-4ca2-9e9e-381d448f1c01",
   "metadata": {},
   "source": [
    "# Solution Example\n",
    "\n",
    "This notebook contains a solution example. Only use this if time is about to run out and you cannot find a solution on your own."
   ]
  },
  {
   "cell_type": "code",
   "execution_count": null,
   "id": "14e00665-f98a-4bbd-b34a-8f7d19d43ba0",
   "metadata": {},
   "outputs": [],
   "source": [
    "# import libraries\n",
    "import time\n",
    "import grovepi\n",
    "import math\n",
    "import psycopg2\n",
    "import time\n",
    "from datetime import datetime"
   ]
  },
  {
   "cell_type": "markdown",
   "id": "94832310-7537-4f38-9571-c5546572f9d5",
   "metadata": {},
   "source": [
    "You need to fill in the **password and Database Name** to build up the connection!\n",
    "\n",
    "The Database Name is iot_db_*XX* (e.g. Group 1: iot_db_01)"
   ]
  },
  {
   "cell_type": "code",
   "execution_count": null,
   "id": "55f34087-c3ac-415e-b762-f776d3f802b8",
   "metadata": {},
   "outputs": [],
   "source": [
    "# open connection to database\n",
    "conn = psycopg2.connect(\n",
    "    dbname='', # FILL IN THE DATABASE NAME OF YOUR GROUP\n",
    "    user='nimda@iot-zeiss-2504', \n",
    "    host='iot-zeiss-2504.postgres.database.azure.com', \n",
    "    password='', # FILL IN THE DATABASE PASSWORD\n",
    "    port='5432', \n",
    "    sslmode='require')\n",
    "cursor = conn.cursor()\n",
    "print(\"Connection established\")\n",
    "\n",
    "# delete table\n",
    "cursor.execute(\"DROP TABLE IF EXISTS project_solution;\")\n",
    "print(\"Finished dropping table (if existed)\")\n",
    "\n",
    "# create table\n",
    "cursor.execute(\"\"\"\n",
    "CREATE TABLE project_solution (\n",
    "    temperature_column FLOAT8, \n",
    "    humidity_column FLOAT8, \n",
    "    light_column FLOAT8, \n",
    "    sound_column FLOAT8, \n",
    "    ultrasonic_ranger_column FLOAT8, \n",
    "    date DATE, \n",
    "    time TIME);\"\"\")\n",
    "print(\"Finished creating table\")\n",
    "\n",
    "#close connection to database\n",
    "conn.commit()\n",
    "cursor.close()\n",
    "conn.close()\n",
    "print(\"connection closed\")"
   ]
  },
  {
   "cell_type": "markdown",
   "id": "a07a7e35",
   "metadata": {},
   "source": [
    "You need to fill in the **password and Database Name** to build up the connection!\n",
    "\n",
    "The Database Name is iot_db_*XX* (e.g. Group 1: iot_db_01)"
   ]
  },
  {
   "cell_type": "code",
   "execution_count": null,
   "id": "64075c11-5294-4b6a-ac02-6397fd1f076f",
   "metadata": {},
   "outputs": [],
   "source": [
    "# open connection to database\n",
    "conn = psycopg2.connect(\n",
    "    dbname='', # FILL IN THE DATABASE NAME OF YOUR GROUP\n",
    "    user='nimda@iot-zeiss-2504', \n",
    "    host='iot-zeiss-2504.postgres.database.azure.com', \n",
    "    password='', # FILL IN THE DATABASE PASSWORD\n",
    "    port='5432', \n",
    "    sslmode='require')\n",
    "cursor = conn.cursor()\n",
    "print(\"Connection established\")\n",
    "\n",
    "# Sensor connections:\n",
    "temp_humidity_sensor = 4  # The Sensor goes on digital port D4.\n",
    "light_sensor = 1 # Connect the Grove Light Sensor to analog port A1\n",
    "sound_sensor = 0 # Connect the Grove Sound Sensor to analog port A0\n",
    "ultrasonic_ranger = 5 # Connect the Grove Ultrasonic Ranger to digital port D5\n",
    "\n",
    "# Define Pin Mode\n",
    "grovepi.pinMode(temp_humidity_sensor,\"INPUT\")\n",
    "grovepi.pinMode(light_sensor,\"INPUT\")\n",
    "grovepi.pinMode(sound_sensor,\"INPUT\")\n",
    "grovepi.pinMode(ultrasonic_ranger,\"INPUT\")\n",
    "\n",
    "# loop to collect data\n",
    "while True:\n",
    "    try:      \n",
    "        # Get sensor value \n",
    "        [temp_value,humidity_value] = grovepi.dht(temp_humidity_sensor,0)\n",
    "        light_value = grovepi.analogRead(light_sensor)\n",
    "        sound_value = grovepi.analogRead(sound_sensor)\n",
    "        ultrasonic_sensor_value = grovepi.ultrasonicRead(ultrasonic_ranger)\n",
    "\n",
    "        # set date and time\n",
    "        date_value = datetime.today().strftime(\"%Y-%m-%d\")\n",
    "        time_value = datetime.today().strftime(\"%H:%M:%S\")\n",
    "        \n",
    "        # print the values that the sensor collected\n",
    "        print(f\"Temperatur = {temp_value}C \\t Humidity = {humidity_value}% \\t Light = {light_value} \\t Sound = {sound_value} \\t Ultrasonic Ranger = {ultrasonic_sensor_value}\")\n",
    "\n",
    "        # insert data into your project database\n",
    "        cursor.execute(\"\"\"\n",
    "        INSERT INTO project_solution (\n",
    "            temperature_column, \n",
    "            humidity_column, \n",
    "            light_column, \n",
    "            sound_column, \n",
    "            ultrasonic_ranger_column, \n",
    "            date, \n",
    "            time) \n",
    "        VALUES (%s, %s, %s, %s, %s, %s, %s);\"\"\", (temp_value, humidity_value, light_value, sound_value, ultrasonic_sensor_value, date_value, time_value))\n",
    "        \n",
    "        # wait 1 second        \n",
    "        time.sleep(1)       \n",
    "\n",
    "    except IOError:\n",
    "        print (\"Error\")\n",
    "\n",
    "    except KeyboardInterrupt:\n",
    "        # close connection\n",
    "        conn.commit()\n",
    "        cursor.close()\n",
    "        conn.close()\n",
    "        print(\"connection closed\")\n",
    "        break"
   ]
  }
 ],
 "metadata": {
  "kernelspec": {
   "display_name": "Python 3 (ipykernel)",
   "language": "python",
   "name": "python3"
  },
  "language_info": {
   "codemirror_mode": {
    "name": "ipython",
    "version": 3
   },
   "file_extension": ".py",
   "mimetype": "text/x-python",
   "name": "python",
   "nbconvert_exporter": "python",
   "pygments_lexer": "ipython3",
   "version": "3.9.7"
  },
  "toc": {
   "base_numbering": 1,
   "nav_menu": {},
   "number_sections": true,
   "sideBar": true,
   "skip_h1_title": false,
   "title_cell": "Table of Contents",
   "title_sidebar": "Contents",
   "toc_cell": false,
   "toc_position": {},
   "toc_section_display": true,
   "toc_window_display": false
  }
 },
 "nbformat": 4,
 "nbformat_minor": 5
}
