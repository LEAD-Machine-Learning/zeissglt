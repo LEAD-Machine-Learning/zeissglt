{
 "cells": [
  {
   "cell_type": "markdown",
   "id": "60d8258e",
   "metadata": {},
   "source": [
    "# IoT Stream Zeiss 2022"
   ]
  },
  {
   "cell_type": "markdown",
   "id": "9795a6ae",
   "metadata": {},
   "source": [
    "This notebook is about storing and accessing data to/from a SQL database that is hosted on Azure. You will be guided through some examples. Afterwards you apply the learned to your use-case.\n",
    "\n",
    "Explanation of terms:\n",
    "\n",
    "**Azure:** Azure is the cloud service from Microsoft. A similar cloud service is AWS from Amazon.\n",
    "<br>\n",
    "**Azure Database:** We use a relational Database on Azure (PostgreSQL - Single Server) to store the collected data. A relational database is a collection of data items with pre-defined relationships between them. These items are organized as a set of tables with columns and rows. Tables are used to hold information about the objects to be represented in the database.\n",
    "<br>\n",
    "**SQL:** SQL is a standard language for storing, manipulating and retrieving data in databases. We will use it to communicate with our database.\n",
    "<br>The SQL commands can be executed with `cursor.execute( SQLcommand )`\n",
    "\n",
    "**For SQL basics see Notebook 00_Basics.ipynb**\n",
    "\n",
    "**Steps overview:**\n",
    "<br>&emsp; `Step 1: Setup`\n",
    "<br>&emsp;&emsp; - import libraries\n",
    "<br>&emsp;&emsp; - create a connection to your database\n",
    "<br>&emsp; `Step 2: Store data`\n",
    "<br>&emsp;&emsp; - create a table in your database\n",
    "<br>&emsp;&emsp; - collect and store data into your database\n",
    "<br>&emsp; `Step 3: Access and visualize data`\n",
    "<br>&emsp;&emsp; - access the data in the database\n",
    "<br>&emsp;&emsp; - create plots of the data\n",
    "<br>&emsp; `Step 4: Close the connection to the database`\n",
    "<br>&emsp;&emsp; - after all the work you just have to close the connection to your database\n",
    "<br>&emsp; `Step 5: Apply - Create the technical setup for your use-case`\n",
    "<br>&emsp;&emsp; - set up a table according to your use-case requirements\n",
    "<br>&emsp;&emsp; - collect data for your use-case and store it in the database"
   ]
  },
  {
   "cell_type": "markdown",
   "id": "e0e363c0",
   "metadata": {},
   "source": [
    "# Step 1: Setup"
   ]
  },
  {
   "cell_type": "markdown",
   "id": "422b0586-6d08-47ff-a859-36985ad0e01b",
   "metadata": {},
   "source": [
    "Import the needed libraries:"
   ]
  },
  {
   "cell_type": "code",
   "execution_count": null,
   "id": "3b90b15d",
   "metadata": {
    "ExecuteTime": {
     "end_time": "2022-05-09T11:40:30.053861Z",
     "start_time": "2022-05-09T11:40:29.070372Z"
    }
   },
   "outputs": [],
   "source": [
    "import psycopg2\n",
    "import pandas as pd\n",
    "import time\n",
    "import random\n",
    "from datetime import datetime\n",
    "from datetime import timezone\n",
    "from time import strftime, gmtime"
   ]
  },
  {
   "cell_type": "markdown",
   "id": "52e99e4a-f82d-4808-ae1a-3b742a2a55b3",
   "metadata": {},
   "source": [
    "The connect() function creates a new database session and returns a new instance of connection. To build a connection, you need the following data:\n",
    "\n",
    "- Username\n",
    "- Password\n",
    "- Host Name: This is the server name or Ip address on which databse is running\n",
    "- Database Name: Database name to which you want to connect - in our case: 'iot_db_XX' where XX is your group number\n",
    "- Port\n",
    "\n",
    "The cursor allows interaction with the database:\n",
    "\n",
    "- send commands to the database using execute() and executemany() methods.\n",
    "- retrieve data from the database using methods such as fetchone(), fetchmany(), fetchall(), or by iteration.\n",
    "\n",
    "Please **fill in the password and Database Name** for the database and execute the following cell:\n",
    "\n",
    "The Database Name is 'iot_db_XX' where XX is your group number (e.g. Group 1: iot_db_01)"
   ]
  },
  {
   "cell_type": "code",
   "execution_count": null,
   "id": "52d06b84-bf00-44c0-8e6f-717838e21609",
   "metadata": {
    "ExecuteTime": {
     "end_time": "2022-05-09T11:40:30.782033Z",
     "start_time": "2022-05-09T11:40:30.055540Z"
    }
   },
   "outputs": [],
   "source": [
    "# create connection\n",
    "conn = psycopg2.connect(dbname='', # FILL IN THE DATABASE NAME OF YOUR GROUP\n",
    "                        user='nimda@iot-zeiss-2504', \n",
    "                        host='iot-zeiss-2504.postgres.database.azure.com', \n",
    "                        password='', # FILL IN THE DATABASE PASSWORD\n",
    "                        port='5432', \n",
    "                        sslmode='require')\n",
    "\n",
    "# create cursor\n",
    "cursor = conn.cursor()\n",
    "print(\"Connection established\")"
   ]
  },
  {
   "cell_type": "markdown",
   "id": "38098bf7-3f63-49df-8457-69249d433256",
   "metadata": {},
   "source": [
    "If you receive the message \"current transaction is aborted, commands ignored until end of transaction block\", then you have to start a new connection/cursor."
   ]
  },
  {
   "cell_type": "markdown",
   "id": "5f1024c1",
   "metadata": {},
   "source": [
    "# Step 2: Store data"
   ]
  },
  {
   "cell_type": "markdown",
   "id": "4b752212",
   "metadata": {
    "tags": []
   },
   "source": [
    "### Drop previous table of same name if one exists"
   ]
  },
  {
   "cell_type": "markdown",
   "id": "41a57fdd",
   "metadata": {},
   "source": [
    "In case you want to start over, you can delete your table\n",
    "\n",
    "**Important:**\n",
    "\n",
    "WITH THIS COMMAND YOU PERMANENTLY DELETE THE TABLE, MAKE SURE YOU DON'T ACCIDENTALLY DELETE IT!"
   ]
  },
  {
   "cell_type": "code",
   "execution_count": null,
   "id": "098de3cb",
   "metadata": {
    "ExecuteTime": {
     "end_time": "2022-05-09T11:40:30.853262Z",
     "start_time": "2022-05-09T11:40:30.790280Z"
    }
   },
   "outputs": [],
   "source": [
    "# ONLY RUN THIS CELL IN CASE YOU WANT TO DELETE YOUR TABLE\n",
    "\n",
    "cursor.execute(\"DROP TABLE IF EXISTS test_table;\")\n",
    "\n",
    "print(\"Finished dropping table (if existed)\")"
   ]
  },
  {
   "cell_type": "markdown",
   "id": "bae9690a",
   "metadata": {
    "tags": []
   },
   "source": [
    "### Create a table\n",
    "\n",
    "**Please note:**\n",
    "\n",
    "In the tutorial you will create a table named `test_group_0`. Please replace the zero by the number of your group."
   ]
  },
  {
   "cell_type": "markdown",
   "id": "711e51e2",
   "metadata": {},
   "source": [
    "When creating a table, you need to define the table name after `CREATE TABLE`. In the brackets the columns of the table are defined. The column name is followed by the data type of the column. "
   ]
  },
  {
   "cell_type": "code",
   "execution_count": null,
   "id": "4972aeae",
   "metadata": {
    "ExecuteTime": {
     "end_time": "2022-05-09T11:40:31.286458Z",
     "start_time": "2022-05-09T11:40:30.856780Z"
    }
   },
   "outputs": [],
   "source": [
    "cursor.execute(\"\"\"\n",
    "CREATE TABLE test_table(\n",
    "    name_column1 FLOAT8, \n",
    "    name_column2 FLOAT8, \n",
    "    name_column3 FLOAT8, \n",
    "    date DATE, \n",
    "    time TIME\n",
    "    );\n",
    "\"\"\")\n",
    "           \n",
    "print(\"Finished creating table\")"
   ]
  },
  {
   "cell_type": "markdown",
   "id": "c44a8e60",
   "metadata": {
    "tags": []
   },
   "source": [
    "### Collect and insert data into the table\n",
    "\n",
    "The command cursor.execute() enables you to execute an SQL query, such as `INSERT INTO`. The function takes as an input the query itself and the data you want to insert. The values in the INSERT INTO query are replaced by placeholder `%s` (e.g. `VALUES (%s, %s)`), the variables containing the data are placed in separate bracets (e.g. `(sensor_value_1, sensor_value_2)`). The numbers of `%s` and input variables need to be identical. Don't forget the comma between the SQL query and the data variables.\n",
    "\n",
    "Read and try to understand the following code. Then execute the cell and after some time stop the cell with the interrupt button (next to play button)"
   ]
  },
  {
   "cell_type": "code",
   "execution_count": null,
   "id": "999cc121",
   "metadata": {
    "ExecuteTime": {
     "end_time": "2022-05-09T11:40:41.333261Z",
     "start_time": "2022-05-09T11:40:31.296577Z"
    },
    "scrolled": true
   },
   "outputs": [],
   "source": [
    "# start infinite loop\n",
    "while True:\n",
    "    try:\n",
    "        # randomly assign numbers between 0 and 100 to the sensor values - this needs to be replaced by your sensor values in your project\n",
    "        sensor_value_1 = random.randint(0,100)\n",
    "        sensor_value_2 = random.randint(0,100)\n",
    "        sensor_value_3 = random.randint(0,100)\n",
    "\n",
    "        # assign date and time to track when the data was collected\n",
    "        date_value = datetime.today().strftime(\"%Y-%m-%d\")\n",
    "        time_value = datetime.today().strftime(\"%H:%M:%S\")\n",
    "\n",
    "        # insert data into the database (don't forget to replace \"test_group_0\" with your group number)\n",
    "        # when data is inserted, no data type is needed\n",
    "        cursor.execute(\"\"\"\n",
    "        INSERT INTO test_table (\n",
    "            name_column1, \n",
    "            name_column2, \n",
    "            name_column3,\n",
    "            date, \n",
    "            time) \n",
    "        VALUES (%s, %s, %s, %s, %s);\"\"\", (sensor_value_1, sensor_value_2, sensor_value_3, date_value, time_value))\n",
    "\n",
    "        # HINT: the number of columns, the number of \"%s\" and the number of values entered needs to match\n",
    "\n",
    "        # print the values that the sensor collected\n",
    "        print(f\"Sensor 1 = {sensor_value_1} \\t Sensor 2 = {sensor_value_2} \\t Sensor 3 = {sensor_value_3} \\t Date = {date_value} \\t Time = {time_value}\")\n",
    "\n",
    "        # wait for 1 second and increase counter i by 1\n",
    "        time.sleep(1)\n",
    "    except KeyboardInterrupt:\n",
    "        break"
   ]
  },
  {
   "cell_type": "markdown",
   "id": "3d2bf440",
   "metadata": {
    "ExecuteTime": {
     "end_time": "2022-05-02T06:25:52.781385Z",
     "start_time": "2022-05-02T06:25:52.776422Z"
    },
    "tags": []
   },
   "source": [
    "# Step 3: Access and visualize data"
   ]
  },
  {
   "cell_type": "markdown",
   "id": "aeb792ee",
   "metadata": {},
   "source": [
    "### Read data from database"
   ]
  },
  {
   "cell_type": "code",
   "execution_count": null,
   "id": "b12d905c",
   "metadata": {
    "ExecuteTime": {
     "end_time": "2022-05-09T11:40:41.397717Z",
     "start_time": "2022-05-09T11:40:41.337312Z"
    }
   },
   "outputs": [],
   "source": [
    "# Fetch all rows from table (test_group_0 needs to be replaced by your group number)\n",
    "cursor.execute(\"\"\"\n",
    "    SELECT \n",
    "        name_column1, \n",
    "        name_column2, \n",
    "        name_column3,\n",
    "        date, \n",
    "        time \n",
    "    FROM test_table;\n",
    "    \"\"\")\n",
    "\n",
    "rows = cursor.fetchall()\n",
    "    \n",
    "# Create a dataframe with rows of the database table\n",
    "df = pd.DataFrame(rows, columns=[\"name_column1\", \"name_column2\", \"name_column3\", \"date\", \"time\"])\n",
    "\n",
    "# show the first 10 rows of the dataframe\n",
    "df.head(10)"
   ]
  },
  {
   "cell_type": "markdown",
   "id": "86659584",
   "metadata": {},
   "source": [
    "### Plot data "
   ]
  },
  {
   "cell_type": "code",
   "execution_count": null,
   "id": "11596b35",
   "metadata": {
    "ExecuteTime": {
     "end_time": "2022-05-09T11:40:41.712552Z",
     "start_time": "2022-05-09T11:40:41.399869Z"
    }
   },
   "outputs": [],
   "source": [
    "# create a histogram of the column 'air_sensor' of the dataframe\n",
    "df[\"name_column1\"].hist()"
   ]
  },
  {
   "cell_type": "markdown",
   "id": "6f514ec9",
   "metadata": {},
   "source": [
    "# Step 4: Close the connection to the database\n",
    "\n",
    "Don't forget to close your connection to the database, once you are done. \n",
    "\n",
    "**Hint:**\n",
    "It might be a good idea to include the openning/closing of the connection at the beginning/end of each code snippit. Like this you can avoid connection issues."
   ]
  },
  {
   "cell_type": "code",
   "execution_count": null,
   "id": "f7102bf1",
   "metadata": {
    "ExecuteTime": {
     "end_time": "2022-05-09T11:40:41.949868Z",
     "start_time": "2022-05-09T11:40:41.713398Z"
    }
   },
   "outputs": [],
   "source": [
    "conn.commit()\n",
    "cursor.close()\n",
    "conn.close()\n",
    "print(\"connection closed\")"
   ]
  },
  {
   "cell_type": "markdown",
   "id": "11a3c703-08c0-4f71-85b4-ed1150091891",
   "metadata": {},
   "source": [
    "# Code example with weather station"
   ]
  },
  {
   "cell_type": "code",
   "execution_count": null,
   "id": "90527654",
   "metadata": {},
   "outputs": [],
   "source": [
    "# open connection to database\n",
    "conn = psycopg2.connect(\n",
    "    dbname='', # FILL IN THE DATABASE NAME OF YOUR GROUP\n",
    "    user='nimda@iot-zeiss-2504', \n",
    "    host='iot-zeiss-2504.postgres.database.azure.com', \n",
    "    password='', # FILL IN THE DATABASE PASSWORD\n",
    "    port='5432', \n",
    "    sslmode='require')\n",
    "cursor = conn.cursor()\n",
    "print(\"Connection established\")\n",
    "\n",
    "# Create the table weather_station:\n",
    "cursor.execute(\"\"\"CREATE TABLE weather_station(\n",
    "temperature_column INT, \n",
    "humidity_column INT, \n",
    "date DATE, \n",
    "time TIME);\n",
    "\"\"\")           \n",
    "print(\"Finished creating table\")\n",
    "\n",
    "# Close the connection\n",
    "conn.commit()\n",
    "cursor.close()\n",
    "conn.close()\n",
    "print(\"connection closed\")"
   ]
  },
  {
   "cell_type": "code",
   "execution_count": null,
   "id": "63b812ca",
   "metadata": {},
   "outputs": [],
   "source": [
    "import time\n",
    "import grovepi\n",
    "import grove_rgb_lcd\n",
    "import math\n",
    "\n",
    "# Sensor connections:\n",
    "temp_humidity_sensor = 4  # The Sensor goes on digital port D4.\n",
    "\n",
    "# Define Pin Mode\n",
    "grovepi.pinMode(temp_humidity_sensor,\"INPUT\")\n",
    "\n",
    "# open connection to database\n",
    "conn = psycopg2.connect(\n",
    "    dbname='', # FILL IN THE DATABASE NAME OF YOUR GROUP\n",
    "    user='nimda@iot-zeiss-2504', \n",
    "    host='iot-zeiss-2504.postgres.database.azure.com', \n",
    "    password='', # FILL IN THE DATABASE PASSWORD\n",
    "    port='5432', \n",
    "    sslmode='require')\n",
    "cursor = conn.cursor()\n",
    "print(\"Connection established\")\n",
    "\n",
    "# loop to collect data\n",
    "while True:\n",
    "    try:      \n",
    "        # Get sensor value \n",
    "        [temp_value,humidity_value] = grovepi.dht(temp_humidity_sensor,0)\n",
    "\n",
    "        # set date and time\n",
    "        date_value = datetime.today().strftime(\"%Y-%m-%d\")\n",
    "        time_value = datetime.today().strftime(\"%H:%M:%S\")\n",
    "        \n",
    "        # print the values that the sensor collected\n",
    "        print(f\"Temperatur = {temp_value}C \\t Humidity = {humidity_value}%\")\n",
    "        \n",
    "        # insert data into your project database\n",
    "        cursor.execute(\"\"\"\n",
    "        INSERT INTO weather_station (\n",
    "            temperature_column, \n",
    "            humidity_column, \n",
    "            date, \n",
    "            time) \n",
    "        VALUES (%s, %s, %s, %s);\"\"\", (temp_value, humidity_value, date_value, time_value))\n",
    "        \n",
    "        # wait 1 second        \n",
    "        time.sleep(1)       \n",
    "\n",
    "    except IOError:\n",
    "        print (\"Error\")\n",
    "\n",
    "    except KeyboardInterrupt:\n",
    "        # close connection\n",
    "        conn.commit()\n",
    "        cursor.close()\n",
    "        conn.close()\n",
    "        print(\"connection closed\")\n",
    "        break"
   ]
  },
  {
   "cell_type": "markdown",
   "id": "7ef9618a",
   "metadata": {
    "tags": []
   },
   "source": [
    "# Step 5: Apply - Create the technical setup for your use-case"
   ]
  },
  {
   "cell_type": "markdown",
   "id": "6715521f",
   "metadata": {},
   "source": [
    "You have completed the tutorial and you are now ready to go up and adjust the code according to your use-case. Good Luck :-)"
   ]
  }
 ],
 "metadata": {
  "kernelspec": {
   "display_name": "Python 3 (ipykernel)",
   "language": "python",
   "name": "python3"
  },
  "language_info": {
   "codemirror_mode": {
    "name": "ipython",
    "version": 3
   },
   "file_extension": ".py",
   "mimetype": "text/x-python",
   "name": "python",
   "nbconvert_exporter": "python",
   "pygments_lexer": "ipython3",
   "version": "3.9.7"
  },
  "toc": {
   "base_numbering": 1,
   "nav_menu": {},
   "number_sections": true,
   "sideBar": true,
   "skip_h1_title": false,
   "title_cell": "Table of Contents",
   "title_sidebar": "Contents",
   "toc_cell": false,
   "toc_position": {},
   "toc_section_display": true,
   "toc_window_display": false
  }
 },
 "nbformat": 4,
 "nbformat_minor": 5
}
