{
 "cells": [
  {
   "cell_type": "markdown",
   "id": "60d8258e",
   "metadata": {},
   "source": [
    "# IoT Stream Zeiss 2022"
   ]
  },
  {
   "cell_type": "markdown",
   "id": "9795a6ae",
   "metadata": {},
   "source": [
    "This notebook is about storing and accessing data to/from a database. You will be guided through some examples. Afterwards you apply the learned to your use-case.\n",
    "\n",
    "**Steps overview:**\n",
    "<br>&emsp; `Step 1: Setup`\n",
    "<br>&emsp;&emsp; - import libraries that you need for your program\n",
    "<br>&emsp;&emsp; - create a connection to your database\n",
    "<br>&emsp; `Step 2: Collection`\n",
    "<br>&emsp;&emsp; - create a table in your database\n",
    "<br>&emsp;&emsp; - collect and store data into your database\n",
    "<br>&emsp; `Step 3: Visualization`\n",
    "<br>&emsp;&emsp; - access the data in the database\n",
    "<br>&emsp;&emsp; - create plots of the data\n",
    "<br>&emsp; `Step 4: Your use-case`\n",
    "<br>&emsp;&emsp; - set up a table according to your use-case requirements\n",
    "<br>&emsp;&emsp; - collect data for your use-case and store it in the database\n",
    "<br>&emsp; `Step 5: Close the connection to the database`\n",
    "<br>&emsp;&emsp; - after all the work you just have to close the connection to your database"
   ]
  },
  {
   "cell_type": "markdown",
   "id": "e0e363c0",
   "metadata": {},
   "source": [
    "# Step 1: Setup"
   ]
  },
  {
   "cell_type": "markdown",
   "id": "be8ea6f1-f00a-422e-a801-01e6c154853c",
   "metadata": {},
   "source": [
    "Install required package:"
   ]
  },
  {
   "cell_type": "code",
   "execution_count": 1,
   "id": "6a7dead8-fedc-4364-8f6e-6ea789386772",
   "metadata": {
    "ExecuteTime": {
     "end_time": "2022-05-09T11:40:29.068086Z",
     "start_time": "2022-05-09T11:40:26.508102Z"
    }
   },
   "outputs": [
    {
     "name": "stdout",
     "output_type": "stream",
     "text": [
      "Requirement already satisfied: psycopg2_binary in /opt/anaconda3/envs/iot/lib/python3.9/site-packages (2.9.3)\n",
      "Requirement already satisfied: pandas in /opt/anaconda3/envs/iot/lib/python3.9/site-packages (1.3.4)\n",
      "Requirement already satisfied: python-dateutil>=2.7.3 in /opt/anaconda3/envs/iot/lib/python3.9/site-packages (from pandas) (2.8.2)\n",
      "Requirement already satisfied: pytz>=2017.3 in /opt/anaconda3/envs/iot/lib/python3.9/site-packages (from pandas) (2021.3)\n",
      "Requirement already satisfied: numpy>=1.17.3 in /opt/anaconda3/envs/iot/lib/python3.9/site-packages (from pandas) (1.20.3)\n",
      "Requirement already satisfied: six>=1.5 in /opt/anaconda3/envs/iot/lib/python3.9/site-packages (from python-dateutil>=2.7.3->pandas) (1.16.0)\n"
     ]
    }
   ],
   "source": [
    "!pip install psycopg2_binary # version for macos\n",
    "!pip install pandas"
   ]
  },
  {
   "cell_type": "markdown",
   "id": "422b0586-6d08-47ff-a859-36985ad0e01b",
   "metadata": {},
   "source": [
    "Import the needed libraries:"
   ]
  },
  {
   "cell_type": "code",
   "execution_count": 2,
   "id": "3b90b15d",
   "metadata": {
    "ExecuteTime": {
     "end_time": "2022-05-09T11:40:30.053861Z",
     "start_time": "2022-05-09T11:40:29.070372Z"
    }
   },
   "outputs": [],
   "source": [
    "import psycopg2\n",
    "import pandas as pd\n",
    "import time\n",
    "from datetime import datetime\n",
    "import random"
   ]
  },
  {
   "cell_type": "markdown",
   "id": "52e99e4a-f82d-4808-ae1a-3b742a2a55b3",
   "metadata": {},
   "source": [
    "Construct connection string for database and connect to it"
   ]
  },
  {
   "cell_type": "code",
   "execution_count": 3,
   "id": "52d06b84-bf00-44c0-8e6f-717838e21609",
   "metadata": {
    "ExecuteTime": {
     "end_time": "2022-05-09T11:40:30.782033Z",
     "start_time": "2022-05-09T11:40:30.055540Z"
    }
   },
   "outputs": [
    {
     "name": "stdout",
     "output_type": "stream",
     "text": [
      "Connection established\n"
     ]
    }
   ],
   "source": [
    "conn = psycopg2.connect(dbname='postgres', user='nimda@iot-zeiss-2504', host='iot-zeiss-2504.postgres.database.azure.com', password='leadml-2022', port='5432', sslmode='require')\n",
    "cursor = conn.cursor()\n",
    "print(\"Connection established\")"
   ]
  },
  {
   "cell_type": "markdown",
   "id": "5f1024c1",
   "metadata": {},
   "source": [
    "# Step 2: Collection"
   ]
  },
  {
   "cell_type": "markdown",
   "id": "76af6e89",
   "metadata": {},
   "source": [
    "**Azure:** Azure is the cloud service from Microsoft. A similar cloud service is AWS from Amazon.\n",
    "<br>\n",
    "**Azure Database:** We use a relational Database on Azure (PostgreSQL - Single Server) to store the collected data. A relational database is a collection of data items with pre-defined relationships between them. These items are organized as a set of tables with columns and rows. Tables are used to hold information about the objects to be represented in the database.\n",
    "<br>\n",
    "**SQL:** SQL is a standard language for storing, manipulating and retrieving data in databases. We will use it to communicate with our database.\n",
    "<br>The SQL commands can be executed with \"cursor.execute(  `SQL command`  )\"."
   ]
  },
  {
   "cell_type": "markdown",
   "id": "c05bab4e",
   "metadata": {},
   "source": [
    "##### Quick introduction to the SQL commands\n",
    "\n",
    "SQL commands are often (also here) capitalized to differentiate between them and the content of the command; however, you do not have to write them capitalized.\n",
    "\n",
    "**CREATE TABLE**\n",
    "\n",
    "The command to create a new table in the database. Some columns that you will find very often are `id` as identifier of each column like an index (also called PRIMARY KEY of the table) and the `datetime` of the creation of a row. Sometimes `datetime` is one column and sometimes separated into `date` and `time` like here.\n",
    "\n",
    "Syntax:\n",
    "\n",
    "CREATE TABLE `the name of the table you want to create` (`id` SERIAL PRIMARY KEY, `column1` *datatype*, `column2` *datatype*, ..., `date` DATE, `time` TIME);\n",
    "\n",
    "The argument SERIAL makes that the column automatically adds a value and increases it by 1 every time you add another row. This means the column `id` will have the values 0,1,2,3,4,5,...\n",
    "\n",
    "The *datatype* of the column can be:\n",
    "\n",
    "&emsp;&emsp; PRIMARY KEY - a column with unique integers to identify the rows\n",
    "\n",
    "&emsp;&emsp; FLOAT8 - decimal number\n",
    "\n",
    "&emsp;&emsp; DATE - a date in the form year-month-day\n",
    "\n",
    "&emsp;&emsp; TIME - a time in the form 00:00:00 (Hours-Minutes-seconds)\n",
    "\n",
    "**INSERT INTO**\n",
    "\n",
    "The command to insert new data into the database. You can insert one row at a time.\n",
    "\n",
    "Syntax:\n",
    "\n",
    "INSERT INTO `the name of the table you want to insert the data into` (`column1`, `column2`, ..., `date`, `time`) VALUES (`value of column1 of the new row`, `value of column2 of the new row`, ..., `date the new row is created`, `time the new row is created`);\n",
    "\n",
    "You do not have to insert a value into the column `id` because the value is added automatically.\n",
    "\n",
    "**SELECT**\n",
    "\n",
    "The command to select data from the database.\n",
    "\n",
    "Syntax:\n",
    "\n",
    "SELECT `column names that you want to select separated with a comma` FROM `name of the table you want to select from`\n",
    "\n",
    "You can also write `*` instead of the column names to select all columns from the table\n",
    "\n",
    "**DROP TABLE IF EXISTS**\n",
    "\n",
    "The command to drop a table if one exists with this name in the database. You can use this to reset a table when you combine this command with the CREATE TABLE command.\n",
    "\n",
    "Syntax:\n",
    "\n",
    "DROP TABLE IF EXISTS `the name of the table you want to drop`;"
   ]
  },
  {
   "cell_type": "markdown",
   "id": "4b752212",
   "metadata": {},
   "source": [
    "### Drop previous table of same name if one exists"
   ]
  },
  {
   "cell_type": "markdown",
   "id": "a41555fe",
   "metadata": {},
   "source": [
    "**IMPORTANT:**\n",
    "\n",
    "In the tutorial the table is named `inventory`. Rename it to the name of your group."
   ]
  },
  {
   "cell_type": "code",
   "execution_count": 4,
   "id": "098de3cb",
   "metadata": {
    "ExecuteTime": {
     "end_time": "2022-05-09T11:40:30.853262Z",
     "start_time": "2022-05-09T11:40:30.790280Z"
    }
   },
   "outputs": [
    {
     "name": "stdout",
     "output_type": "stream",
     "text": [
      "Finished dropping table (if existed)\n"
     ]
    }
   ],
   "source": [
    "cursor.execute(\"DROP TABLE IF EXISTS inventory;\")\n",
    "print(\"Finished dropping table (if existed)\")"
   ]
  },
  {
   "cell_type": "markdown",
   "id": "bae9690a",
   "metadata": {},
   "source": [
    "### Create a table"
   ]
  },
  {
   "cell_type": "markdown",
   "id": "711e51e2",
   "metadata": {},
   "source": [
    "**columns of the table:**\n",
    "<br>&emsp;    `id` is our primary key and will be increased automatically (natural number, first datapoint has id=0)\n",
    "<br>&emsp;    `air_sensor` could be the data of one of our sensors (decimal number)\n",
    "<br>&emsp;    `sound_sensor` could be the data of one of our sensors (decimal number)\n",
    "<br>&emsp;    `temperature_sensor` could be the data of one of our sensors (decimal number)\n",
    "<br>&emsp;    `date` is the date of the creation of the datapoint (form: 'year-month-day')\n",
    "<br>&emsp;    `time` is the time of creation of the datapoint (form: '00:00:00')"
   ]
  },
  {
   "cell_type": "code",
   "execution_count": 5,
   "id": "4972aeae",
   "metadata": {
    "ExecuteTime": {
     "end_time": "2022-05-09T11:40:31.286458Z",
     "start_time": "2022-05-09T11:40:30.856780Z"
    }
   },
   "outputs": [
    {
     "name": "stdout",
     "output_type": "stream",
     "text": [
      "Finished creating table\n"
     ]
    }
   ],
   "source": [
    "cursor.execute(\"CREATE TABLE inventory (id SERIAL PRIMARY KEY, air_sensor FLOAT8, sound_sensor FLOAT8, temperature_sensor FLOAT8, date DATE, time TIME);\")\n",
    "print(\"Finished creating table\")"
   ]
  },
  {
   "cell_type": "markdown",
   "id": "c44a8e60",
   "metadata": {},
   "source": [
    "### Collect and insert data into the table"
   ]
  },
  {
   "cell_type": "code",
   "execution_count": 6,
   "id": "3ebbb965",
   "metadata": {
    "ExecuteTime": {
     "end_time": "2022-05-09T11:40:31.293728Z",
     "start_time": "2022-05-09T11:40:31.288672Z"
    }
   },
   "outputs": [],
   "source": [
    "# function to generate random example values for the sensors\n",
    "def collect_data():\n",
    "    air_sensor = random.randint(0,100)\n",
    "    sound_sensor = random.randint(0,100)\n",
    "    temperature_sensor = random.randint(0,100)\n",
    "    \n",
    "    return air_sensor, sound_sensor, temperature_sensor"
   ]
  },
  {
   "cell_type": "code",
   "execution_count": 7,
   "id": "999cc121",
   "metadata": {
    "ExecuteTime": {
     "end_time": "2022-05-09T11:40:41.333261Z",
     "start_time": "2022-05-09T11:40:31.296577Z"
    },
    "scrolled": true
   },
   "outputs": [
    {
     "name": "stdout",
     "output_type": "stream",
     "text": [
      "passed time:  0.00027298927307128906\n",
      "passed time:  0.0007529258728027344\n",
      "passed time:  0.06116795539855957\n",
      "passed time:  0.07846498489379883\n",
      "passed time:  0.10218977928161621\n",
      "passed time:  0.11919593811035156\n",
      "passed time:  0.15883588790893555\n",
      "passed time:  0.1761629581451416\n",
      "passed time:  0.34644007682800293\n",
      "passed time:  0.36513209342956543\n",
      "passed time:  0.38188600540161133\n",
      "passed time:  0.4006059169769287\n",
      "passed time:  0.4174048900604248\n",
      "passed time:  0.44846296310424805\n",
      "passed time:  0.4665360450744629\n",
      "passed time:  0.48308777809143066\n",
      "passed time:  0.5001628398895264\n",
      "passed time:  0.5185070037841797\n",
      "passed time:  0.5359718799591064\n",
      "passed time:  0.5538029670715332\n",
      "passed time:  0.5708198547363281\n",
      "passed time:  0.5880289077758789\n",
      "passed time:  0.6048159599304199\n",
      "passed time:  0.6226928234100342\n",
      "passed time:  0.6413249969482422\n",
      "passed time:  0.7404780387878418\n",
      "passed time:  0.7581140995025635\n",
      "passed time:  0.8016750812530518\n",
      "passed time:  0.8228399753570557\n",
      "passed time:  0.8413689136505127\n",
      "passed time:  0.8587641716003418\n",
      "passed time:  0.898669958114624\n",
      "passed time:  0.9243588447570801\n",
      "passed time:  0.9439139366149902\n",
      "passed time:  0.9610719680786133\n",
      "passed time:  0.9780910015106201\n",
      "passed time:  1.0119550228118896\n",
      "passed time:  1.0303640365600586\n",
      "passed time:  1.0468738079071045\n",
      "passed time:  1.0636038780212402\n",
      "passed time:  1.0798578262329102\n",
      "passed time:  1.0982069969177246\n",
      "passed time:  1.1160259246826172\n",
      "passed time:  1.1339688301086426\n",
      "passed time:  1.1511318683624268\n",
      "passed time:  1.1683249473571777\n",
      "passed time:  1.206683874130249\n",
      "passed time:  1.2239089012145996\n",
      "passed time:  1.3946020603179932\n",
      "passed time:  1.4122800827026367\n",
      "passed time:  1.4294369220733643\n",
      "passed time:  1.4627280235290527\n",
      "passed time:  1.4799060821533203\n",
      "passed time:  1.5002057552337646\n",
      "passed time:  1.5171878337860107\n",
      "passed time:  1.535264015197754\n",
      "passed time:  1.585359811782837\n",
      "passed time:  1.601750135421753\n",
      "passed time:  1.618926763534546\n",
      "passed time:  1.641052007675171\n",
      "passed time:  1.660644769668579\n",
      "passed time:  1.677549123764038\n",
      "passed time:  1.695502758026123\n",
      "passed time:  1.8043878078460693\n",
      "passed time:  1.8210299015045166\n",
      "passed time:  1.8387510776519775\n",
      "passed time:  1.8607068061828613\n",
      "passed time:  1.913214921951294\n",
      "passed time:  1.9355368614196777\n",
      "passed time:  1.9562509059906006\n",
      "passed time:  1.9732539653778076\n",
      "passed time:  2.0263729095458984\n",
      "passed time:  2.044365882873535\n",
      "passed time:  2.062227964401245\n",
      "passed time:  2.0805819034576416\n",
      "passed time:  2.0972509384155273\n",
      "passed time:  2.11382794380188\n",
      "passed time:  2.1305737495422363\n",
      "passed time:  2.1502950191497803\n",
      "passed time:  2.167341947555542\n",
      "passed time:  2.186311960220337\n",
      "passed time:  2.2027809619903564\n",
      "passed time:  2.2193589210510254\n",
      "passed time:  2.257018804550171\n",
      "passed time:  2.274394989013672\n",
      "passed time:  2.445472002029419\n",
      "passed time:  2.486888885498047\n",
      "passed time:  2.504112958908081\n",
      "passed time:  2.522584915161133\n",
      "passed time:  2.539936065673828\n",
      "passed time:  2.5608298778533936\n",
      "passed time:  2.6038999557495117\n",
      "passed time:  2.620920181274414\n",
      "passed time:  2.6377179622650146\n",
      "passed time:  2.654277801513672\n",
      "passed time:  2.670603036880493\n",
      "passed time:  2.6883761882781982\n",
      "passed time:  2.7061970233917236\n",
      "passed time:  2.723294973373413\n",
      "passed time:  2.7420051097869873\n",
      "passed time:  2.8356878757476807\n",
      "passed time:  2.8524460792541504\n",
      "passed time:  2.868921995162964\n",
      "passed time:  2.8868298530578613\n",
      "passed time:  2.925704002380371\n",
      "passed time:  2.944066047668457\n",
      "passed time:  2.961223840713501\n",
      "passed time:  2.977940082550049\n",
      "passed time:  2.9958200454711914\n",
      "passed time:  3.0531668663024902\n",
      "passed time:  3.0713119506835938\n",
      "passed time:  3.0888450145721436\n",
      "passed time:  3.1068828105926514\n",
      "passed time:  3.15799880027771\n",
      "passed time:  3.174901008605957\n",
      "passed time:  3.191429853439331\n",
      "passed time:  3.208369016647339\n",
      "passed time:  3.226300001144409\n",
      "passed time:  3.243290901184082\n",
      "passed time:  3.25999116897583\n",
      "passed time:  3.3021419048309326\n",
      "passed time:  3.320352077484131\n",
      "passed time:  3.4901788234710693\n",
      "passed time:  3.5079638957977295\n",
      "passed time:  3.5244290828704834\n",
      "passed time:  3.54111909866333\n",
      "passed time:  3.5580570697784424\n",
      "passed time:  3.597911834716797\n",
      "passed time:  3.614489793777466\n",
      "passed time:  3.6318740844726562\n",
      "passed time:  3.6508548259735107\n",
      "passed time:  3.668894052505493\n",
      "passed time:  3.6866049766540527\n",
      "passed time:  3.703616142272949\n",
      "passed time:  3.721623182296753\n",
      "passed time:  3.7388968467712402\n",
      "passed time:  3.755910873413086\n",
      "passed time:  3.773426055908203\n",
      "passed time:  3.791630983352661\n",
      "passed time:  3.8855769634246826\n",
      "passed time:  3.904766082763672\n",
      "passed time:  3.9386789798736572\n",
      "passed time:  3.9547929763793945\n",
      "passed time:  3.9726438522338867\n",
      "passed time:  3.9891278743743896\n",
      "passed time:  4.006162881851196\n",
      "passed time:  4.028016805648804\n",
      "passed time:  4.07592511177063\n",
      "passed time:  4.095420837402344\n",
      "passed time:  4.1193060874938965\n",
      "passed time:  4.161386966705322\n",
      "passed time:  4.178246021270752\n",
      "passed time:  4.194893836975098\n",
      "passed time:  4.211760997772217\n",
      "passed time:  4.229248046875\n",
      "passed time:  4.246828079223633\n",
      "passed time:  4.264920949935913\n",
      "passed time:  4.282050132751465\n",
      "passed time:  4.30070686340332\n",
      "passed time:  4.351781845092773\n",
      "passed time:  4.547266721725464\n",
      "passed time:  4.574773073196411\n",
      "passed time:  4.5921289920806885\n",
      "passed time:  4.632286071777344\n",
      "passed time:  4.648781061172485\n",
      "passed time:  4.666127920150757\n",
      "passed time:  4.682565927505493\n",
      "passed time:  4.731578826904297\n",
      "passed time:  4.749543905258179\n",
      "passed time:  4.767523765563965\n",
      "passed time:  4.7841291427612305\n",
      "passed time:  4.801038980484009\n",
      "passed time:  4.81896185874939\n",
      "passed time:  4.8362860679626465\n",
      "passed time:  4.932530879974365\n",
      "passed time:  4.949793100357056\n",
      "passed time:  4.966897010803223\n",
      "passed time:  4.983603000640869\n",
      "passed time:  5.000988960266113\n",
      "passed time:  5.018672943115234\n",
      "passed time:  5.056613922119141\n",
      "passed time:  5.074061870574951\n",
      "passed time:  5.091058015823364\n",
      "passed time:  5.10784387588501\n",
      "passed time:  5.126230955123901\n",
      "passed time:  5.170751094818115\n",
      "passed time:  5.192046880722046\n",
      "passed time:  5.209414958953857\n",
      "passed time:  5.2329957485198975\n",
      "passed time:  5.251276016235352\n",
      "passed time:  5.268182992935181\n",
      "passed time:  5.293114900588989\n",
      "passed time:  5.3098978996276855\n",
      "passed time:  5.330909967422485\n",
      "passed time:  5.348332166671753\n",
      "passed time:  5.366456747055054\n",
      "passed time:  5.4008870124816895\n",
      "passed time:  5.417284965515137\n",
      "passed time:  5.623589992523193\n",
      "passed time:  5.64034104347229\n",
      "passed time:  5.657709121704102\n",
      "passed time:  5.67533016204834\n",
      "passed time:  5.692080974578857\n",
      "passed time:  5.732954978942871\n",
      "passed time:  5.751004934310913\n",
      "passed time:  5.7682249546051025\n",
      "passed time:  5.787414073944092\n",
      "passed time:  5.8047051429748535\n",
      "passed time:  5.821528911590576\n",
      "passed time:  5.839984893798828\n",
      "passed time:  5.857037782669067\n",
      "passed time:  5.878335952758789\n",
      "passed time:  5.983623027801514\n",
      "passed time:  6.000447034835815\n",
      "passed time:  6.017672061920166\n",
      "passed time:  6.034465074539185\n",
      "passed time:  6.070737838745117\n",
      "passed time:  6.087470769882202\n",
      "passed time:  6.1058361530303955\n",
      "passed time:  6.12294602394104\n",
      "passed time:  6.139467000961304\n",
      "passed time:  6.156269788742065\n",
      "passed time:  6.203358888626099\n",
      "passed time:  6.220144987106323\n",
      "passed time:  6.2376110553741455\n",
      "passed time:  6.255249977111816\n",
      "passed time:  6.303842067718506\n",
      "passed time:  6.321228981018066\n",
      "passed time:  6.3379669189453125\n",
      "passed time:  6.356621026992798\n",
      "passed time:  6.373192071914673\n",
      "passed time:  6.390416860580444\n",
      "passed time:  6.4074718952178955\n",
      "passed time:  6.4557178020477295\n",
      "passed time:  6.475135087966919\n",
      "passed time:  6.639337062835693\n",
      "passed time:  6.655224800109863\n",
      "passed time:  6.6722917556762695\n",
      "passed time:  6.695612907409668\n",
      "passed time:  6.7125630378723145\n",
      "passed time:  6.74509072303772\n",
      "passed time:  6.762605905532837\n",
      "passed time:  6.780541896820068\n",
      "passed time:  6.798274755477905\n",
      "passed time:  6.815479040145874\n",
      "passed time:  6.83247184753418\n",
      "passed time:  6.850259065628052\n",
      "passed time:  6.869474172592163\n",
      "passed time:  6.886636018753052\n",
      "passed time:  6.904770135879517\n",
      "passed time:  6.92136287689209\n",
      "passed time:  6.9389379024505615\n",
      "passed time:  7.031396865844727\n"
     ]
    },
    {
     "name": "stdout",
     "output_type": "stream",
     "text": [
      "passed time:  7.049612998962402\n",
      "passed time:  7.093672037124634\n",
      "passed time:  7.111836910247803\n",
      "passed time:  7.129042863845825\n",
      "passed time:  7.1459290981292725\n",
      "passed time:  7.165385961532593\n",
      "passed time:  7.208930015563965\n",
      "passed time:  7.225949048995972\n",
      "passed time:  7.242437839508057\n",
      "passed time:  7.2591328620910645\n",
      "passed time:  7.278932094573975\n",
      "passed time:  7.323940992355347\n",
      "passed time:  7.342098951339722\n",
      "passed time:  7.3597798347473145\n",
      "passed time:  7.380910873413086\n",
      "passed time:  7.39814305305481\n",
      "passed time:  7.4160988330841064\n",
      "passed time:  7.43300986289978\n",
      "passed time:  7.450413942337036\n",
      "passed time:  7.469865083694458\n",
      "passed time:  7.686986923217773\n",
      "passed time:  7.707426071166992\n",
      "passed time:  7.724529981613159\n",
      "passed time:  7.770903825759888\n",
      "passed time:  7.790695905685425\n",
      "passed time:  7.808098077774048\n",
      "passed time:  7.8256189823150635\n",
      "passed time:  7.876301050186157\n",
      "passed time:  7.892826795578003\n",
      "passed time:  7.909578084945679\n",
      "passed time:  7.928075075149536\n",
      "passed time:  7.94504189491272\n",
      "passed time:  7.961357116699219\n",
      "passed time:  7.977865934371948\n",
      "passed time:  8.081619024276733\n",
      "passed time:  8.098343849182129\n",
      "passed time:  8.115827083587646\n",
      "passed time:  8.132884979248047\n",
      "passed time:  8.150385856628418\n",
      "passed time:  8.168353080749512\n",
      "passed time:  8.201971054077148\n",
      "passed time:  8.219944953918457\n",
      "passed time:  8.241021871566772\n",
      "passed time:  8.258121967315674\n",
      "passed time:  8.27469801902771\n",
      "passed time:  8.293673038482666\n",
      "passed time:  8.338109970092773\n",
      "passed time:  8.354562044143677\n",
      "passed time:  8.371745109558105\n",
      "passed time:  8.388271808624268\n",
      "passed time:  8.405847072601318\n",
      "passed time:  8.42306900024414\n",
      "passed time:  8.440563917160034\n",
      "passed time:  8.458070039749146\n",
      "passed time:  8.474855899810791\n",
      "passed time:  8.493412971496582\n",
      "passed time:  8.51317572593689\n",
      "passed time:  8.549274921417236\n",
      "passed time:  8.565897941589355\n",
      "passed time:  8.738188982009888\n",
      "passed time:  8.782459020614624\n",
      "passed time:  8.799721956253052\n",
      "passed time:  8.81672191619873\n",
      "passed time:  8.83401894569397\n",
      "passed time:  8.850687980651855\n",
      "passed time:  8.867379903793335\n",
      "passed time:  8.88524603843689\n",
      "passed time:  8.902249097824097\n",
      "passed time:  8.920160055160522\n",
      "passed time:  8.937224864959717\n",
      "passed time:  8.955066919326782\n",
      "passed time:  8.973953008651733\n",
      "passed time:  8.993382930755615\n",
      "passed time:  9.011989116668701\n",
      "passed time:  9.028522968292236\n",
      "passed time:  9.125679969787598\n",
      "passed time:  9.144129037857056\n",
      "passed time:  9.160706758499146\n",
      "passed time:  9.178386926651001\n",
      "passed time:  9.195503950119019\n",
      "passed time:  9.212028980255127\n",
      "passed time:  9.259243965148926\n",
      "passed time:  9.2760488986969\n",
      "passed time:  9.2951078414917\n",
      "passed time:  9.32704210281372\n",
      "passed time:  9.344656944274902\n",
      "passed time:  9.362135887145996\n",
      "passed time:  9.378720045089722\n",
      "passed time:  9.3954598903656\n",
      "passed time:  9.451143980026245\n",
      "passed time:  9.468793869018555\n",
      "passed time:  9.48478388786316\n",
      "passed time:  9.501804113388062\n",
      "passed time:  9.51948094367981\n",
      "passed time:  9.537901878356934\n",
      "passed time:  9.556434869766235\n",
      "passed time:  9.594711065292358\n",
      "passed time:  9.609986782073975\n",
      "passed time:  9.627009153366089\n",
      "passed time:  9.796933889389038\n",
      "passed time:  9.815315008163452\n",
      "passed time:  9.833016157150269\n",
      "passed time:  9.853003978729248\n",
      "passed time:  9.891114950180054\n",
      "passed time:  9.9078688621521\n",
      "passed time:  9.92467474937439\n",
      "passed time:  9.941581964492798\n",
      "passed time:  9.958924055099487\n",
      "passed time:  9.97648286819458\n",
      "passed time:  9.993640899658203\n"
     ]
    }
   ],
   "source": [
    "start = time.time()\n",
    "end = time.time()\n",
    "\n",
    "while end-start<10: # collect data for 10 sec\n",
    "    \n",
    "    # output the passed time\n",
    "    print(\"passed time: \", end-start)\n",
    "    end = time.time()\n",
    "    \n",
    "    # call the 'collect_data' function\n",
    "    air_sensor, sound_sensor, temperature_sensor = collect_data()\n",
    "    date_ = datetime.today().strftime(\"%Y-%m-%d\")\n",
    "    time_ = datetime.today().strftime(\"%H:%M:%S\")\n",
    "    \n",
    "    # insert data into the database (here: \"inventory\")\n",
    "    cursor.execute(\"INSERT INTO inventory (air_sensor, sound_sensor, temperature_sensor, date, time) VALUES (%s, %s, %s, %s, %s);\", (air_sensor, sound_sensor, temperature_sensor, date_, time_))"
   ]
  },
  {
   "cell_type": "markdown",
   "id": "3d2bf440",
   "metadata": {
    "ExecuteTime": {
     "end_time": "2022-05-02T06:25:52.781385Z",
     "start_time": "2022-05-02T06:25:52.776422Z"
    }
   },
   "source": [
    "# Step 3: Visualization"
   ]
  },
  {
   "cell_type": "markdown",
   "id": "aeb792ee",
   "metadata": {},
   "source": [
    "### Read data from database"
   ]
  },
  {
   "cell_type": "code",
   "execution_count": 8,
   "id": "b12d905c",
   "metadata": {
    "ExecuteTime": {
     "end_time": "2022-05-09T11:40:41.397717Z",
     "start_time": "2022-05-09T11:40:41.337312Z"
    }
   },
   "outputs": [
    {
     "data": {
      "text/html": [
       "<div>\n",
       "<style scoped>\n",
       "    .dataframe tbody tr th:only-of-type {\n",
       "        vertical-align: middle;\n",
       "    }\n",
       "\n",
       "    .dataframe tbody tr th {\n",
       "        vertical-align: top;\n",
       "    }\n",
       "\n",
       "    .dataframe thead th {\n",
       "        text-align: right;\n",
       "    }\n",
       "</style>\n",
       "<table border=\"1\" class=\"dataframe\">\n",
       "  <thead>\n",
       "    <tr style=\"text-align: right;\">\n",
       "      <th></th>\n",
       "      <th>air_sensor</th>\n",
       "      <th>sound_sensor</th>\n",
       "      <th>temperature_sensor</th>\n",
       "      <th>date</th>\n",
       "      <th>time</th>\n",
       "    </tr>\n",
       "  </thead>\n",
       "  <tbody>\n",
       "    <tr>\n",
       "      <th>0</th>\n",
       "      <td>78.0</td>\n",
       "      <td>93.0</td>\n",
       "      <td>37.0</td>\n",
       "      <td>2022-05-09</td>\n",
       "      <td>13:40:31</td>\n",
       "    </tr>\n",
       "    <tr>\n",
       "      <th>1</th>\n",
       "      <td>64.0</td>\n",
       "      <td>95.0</td>\n",
       "      <td>49.0</td>\n",
       "      <td>2022-05-09</td>\n",
       "      <td>13:40:31</td>\n",
       "    </tr>\n",
       "    <tr>\n",
       "      <th>2</th>\n",
       "      <td>89.0</td>\n",
       "      <td>16.0</td>\n",
       "      <td>12.0</td>\n",
       "      <td>2022-05-09</td>\n",
       "      <td>13:40:31</td>\n",
       "    </tr>\n",
       "    <tr>\n",
       "      <th>3</th>\n",
       "      <td>92.0</td>\n",
       "      <td>64.0</td>\n",
       "      <td>46.0</td>\n",
       "      <td>2022-05-09</td>\n",
       "      <td>13:40:31</td>\n",
       "    </tr>\n",
       "    <tr>\n",
       "      <th>4</th>\n",
       "      <td>61.0</td>\n",
       "      <td>49.0</td>\n",
       "      <td>30.0</td>\n",
       "      <td>2022-05-09</td>\n",
       "      <td>13:40:31</td>\n",
       "    </tr>\n",
       "    <tr>\n",
       "      <th>5</th>\n",
       "      <td>35.0</td>\n",
       "      <td>60.0</td>\n",
       "      <td>16.0</td>\n",
       "      <td>2022-05-09</td>\n",
       "      <td>13:40:31</td>\n",
       "    </tr>\n",
       "    <tr>\n",
       "      <th>6</th>\n",
       "      <td>2.0</td>\n",
       "      <td>46.0</td>\n",
       "      <td>0.0</td>\n",
       "      <td>2022-05-09</td>\n",
       "      <td>13:40:31</td>\n",
       "    </tr>\n",
       "    <tr>\n",
       "      <th>7</th>\n",
       "      <td>94.0</td>\n",
       "      <td>58.0</td>\n",
       "      <td>18.0</td>\n",
       "      <td>2022-05-09</td>\n",
       "      <td>13:40:31</td>\n",
       "    </tr>\n",
       "    <tr>\n",
       "      <th>8</th>\n",
       "      <td>29.0</td>\n",
       "      <td>77.0</td>\n",
       "      <td>23.0</td>\n",
       "      <td>2022-05-09</td>\n",
       "      <td>13:40:31</td>\n",
       "    </tr>\n",
       "    <tr>\n",
       "      <th>9</th>\n",
       "      <td>47.0</td>\n",
       "      <td>83.0</td>\n",
       "      <td>56.0</td>\n",
       "      <td>2022-05-09</td>\n",
       "      <td>13:40:31</td>\n",
       "    </tr>\n",
       "  </tbody>\n",
       "</table>\n",
       "</div>"
      ],
      "text/plain": [
       "   air_sensor  sound_sensor  temperature_sensor        date      time\n",
       "0        78.0          93.0                37.0  2022-05-09  13:40:31\n",
       "1        64.0          95.0                49.0  2022-05-09  13:40:31\n",
       "2        89.0          16.0                12.0  2022-05-09  13:40:31\n",
       "3        92.0          64.0                46.0  2022-05-09  13:40:31\n",
       "4        61.0          49.0                30.0  2022-05-09  13:40:31\n",
       "5        35.0          60.0                16.0  2022-05-09  13:40:31\n",
       "6         2.0          46.0                 0.0  2022-05-09  13:40:31\n",
       "7        94.0          58.0                18.0  2022-05-09  13:40:31\n",
       "8        29.0          77.0                23.0  2022-05-09  13:40:31\n",
       "9        47.0          83.0                56.0  2022-05-09  13:40:31"
      ]
     },
     "execution_count": 8,
     "metadata": {},
     "output_type": "execute_result"
    }
   ],
   "source": [
    "# Fetch all rows from table (here 'inventory')\n",
    "cursor.execute(\"SELECT air_sensor, sound_sensor, temperature_sensor, date, time FROM inventory;\")\n",
    "rows = cursor.fetchall()\n",
    "    \n",
    "# Create DataFrame with rows\n",
    "df = pd.DataFrame(rows, columns=[\"air_sensor\", \"sound_sensor\", \"temperature_sensor\", \"date\", \"time\"])\n",
    "\n",
    "# show the first 10 rows of it\n",
    "df.head(10)"
   ]
  },
  {
   "cell_type": "markdown",
   "id": "86659584",
   "metadata": {},
   "source": [
    "### Plot data "
   ]
  },
  {
   "cell_type": "code",
   "execution_count": 9,
   "id": "11596b35",
   "metadata": {
    "ExecuteTime": {
     "end_time": "2022-05-09T11:40:41.712552Z",
     "start_time": "2022-05-09T11:40:41.399869Z"
    }
   },
   "outputs": [
    {
     "data": {
      "text/plain": [
       "<AxesSubplot:>"
      ]
     },
     "execution_count": 9,
     "metadata": {},
     "output_type": "execute_result"
    },
    {
     "data": {
      "image/png": "[encoded data removed]",
      "text/plain": [
       "<Figure size 432x288 with 1 Axes>"
      ]
     },
     "metadata": {
      "needs_background": "light"
     },
     "output_type": "display_data"
    }
   ],
   "source": [
    "# create a histogram of the column 'air_sensor'\n",
    "df[\"air_sensor\"].hist()"
   ]
  },
  {
   "cell_type": "markdown",
   "id": "7ef9618a",
   "metadata": {},
   "source": [
    "# Step 4: Your use-case"
   ]
  },
  {
   "cell_type": "markdown",
   "id": "6715521f",
   "metadata": {},
   "source": [
    "You have completed the tutorial and you are now ready to go up and adjust the code according to your use-case. Good Luck :-)"
   ]
  },
  {
   "cell_type": "markdown",
   "id": "6f514ec9",
   "metadata": {},
   "source": [
    "# Step 5: Close the connection to the database"
   ]
  },
  {
   "cell_type": "code",
   "execution_count": 10,
   "id": "f7102bf1",
   "metadata": {
    "ExecuteTime": {
     "end_time": "2022-05-09T11:40:41.949868Z",
     "start_time": "2022-05-09T11:40:41.713398Z"
    }
   },
   "outputs": [
    {
     "name": "stdout",
     "output_type": "stream",
     "text": [
      "connection closed\n"
     ]
    }
   ],
   "source": [
    "conn.commit()\n",
    "cursor.close()\n",
    "conn.close()\n",
    "print(\"connection closed\")"
   ]
  },
  {
   "cell_type": "code",
   "execution_count": null,
   "id": "88f21d8a",
   "metadata": {},
   "outputs": [],
   "source": []
  }
 ],
 "metadata": {
  "kernelspec": {
   "display_name": "Python 3 (ipykernel)",
   "language": "python",
   "name": "python3"
  },
  "language_info": {
   "codemirror_mode": {
    "name": "ipython",
    "version": 3
   },
   "file_extension": ".py",
   "mimetype": "text/x-python",
   "name": "python",
   "nbconvert_exporter": "python",
   "pygments_lexer": "ipython3",
   "version": "3.9.7"
  },
  "toc": {
   "base_numbering": 1,
   "nav_menu": {},
   "number_sections": true,
   "sideBar": true,
   "skip_h1_title": false,
   "title_cell": "Table of Contents",
   "title_sidebar": "Contents",
   "toc_cell": false,
   "toc_position": {},
   "toc_section_display": true,
   "toc_window_display": false
  }
 },
 "nbformat": 4,
 "nbformat_minor": 5
}
