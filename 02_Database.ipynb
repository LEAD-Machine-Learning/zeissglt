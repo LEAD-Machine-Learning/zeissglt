{
 "cells": [
  {
   "cell_type": "markdown",
   "id": "60d8258e",
   "metadata": {},
   "source": [
    "# IoT Stream Zeiss 2022"
   ]
  },
  {
   "cell_type": "markdown",
   "id": "9795a6ae",
   "metadata": {},
   "source": [
    "This notebook is about storing and accessing data to/from a database. You will be guided through some examples. Afterwards you apply the learned to your use-case.\n",
    "\n",
    "**Steps overview:**\n",
    "<br>&emsp; `Step 1: Setup`\n",
    "<br>&emsp;&emsp; - import libraries that you need for your program\n",
    "<br>&emsp;&emsp; - create a connection to your database\n",
    "<br>&emsp; `Step 2: Collection`\n",
    "<br>&emsp;&emsp; - create a table in your database\n",
    "<br>&emsp;&emsp; - collect and store data into your database\n",
    "<br>&emsp; `Step 3: Visualization`\n",
    "<br>&emsp;&emsp; - access the data in the database\n",
    "<br>&emsp;&emsp; - create plots of the data\n",
    "<br>&emsp; `Step 4: Your use-case`\n",
    "<br>&emsp;&emsp; - set up a table according to your use-case requirements\n",
    "<br>&emsp;&emsp; - collect data for your use-case and store it in the database\n",
    "<br>&emsp; `Step 5: Close the connection to the database`\n",
    "<br>&emsp;&emsp; - after all the work you just have to close the connection to your database"
   ]
  },
  {
   "cell_type": "markdown",
   "id": "e0e363c0",
   "metadata": {},
   "source": [
    "# Step 1: Setup"
   ]
  },
  {
   "cell_type": "markdown",
   "id": "be8ea6f1-f00a-422e-a801-01e6c154853c",
   "metadata": {},
   "source": [
    "Install required package:"
   ]
  },
  {
   "cell_type": "code",
   "execution_count": 6,
   "id": "6a7dead8-fedc-4364-8f6e-6ea789386772",
   "metadata": {},
   "outputs": [
    {
     "name": "stdout",
     "output_type": "stream",
     "text": [
      "Defaulting to user installation because normal site-packages is not writeable\n",
      "Looking in indexes: https://pypi.org/simple, https://www.piwheels.org/simple\n",
      "Requirement already satisfied: psycopg2_binary in /home/pi/.local/lib/python3.7/site-packages (2.9.3)\n",
      "Defaulting to user installation because normal site-packages is not writeable\n",
      "Looking in indexes: https://pypi.org/simple, https://www.piwheels.org/simple\n",
      "Collecting pandas\n",
      "  Downloading https://www.piwheels.org/simple/pandas/pandas-1.3.5-cp37-cp37m-linux_armv7l.whl (14.4 MB)\n",
      "\u001b[2K     \u001b[38;2;114;156;31m━━━━━━━━━━━━━━━━━━━━━━━━━━━━━━━━━━━━━━━━\u001b[0m \u001b[32m14.4/14.4 MB\u001b[0m \u001b[31m1.5 MB/s\u001b[0m eta \u001b[36m0:00:00\u001b[0mm eta \u001b[36m0:00:01\u001b[0m[36m0:00:01\u001b[0m\n",
      "\u001b[?25hRequirement already satisfied: pytz>=2017.3 in /home/pi/.local/lib/python3.7/site-packages (from pandas) (2022.1)\n",
      "Collecting numpy>=1.17.3\n",
      "  Downloading numpy-1.21.6.zip (10.3 MB)\n",
      "\u001b[2K     \u001b[38;2;114;156;31m━━━━━━━━━━━━━━━━━━━━━━━━━━━━━━━━━━━━━━━━\u001b[0m \u001b[32m10.3/10.3 MB\u001b[0m \u001b[31m1.4 MB/s\u001b[0m eta \u001b[36m0:00:00\u001b[0mm eta \u001b[36m0:00:01\u001b[0m36m0:00:01\u001b[0m0m\n",
      "\u001b[?25h  Installing build dependencies ... \u001b[?25ldone\n",
      "\u001b[?25h  Getting requirements to build wheel ... \u001b[?25ldone\n",
      "\u001b[?25h  Preparing metadata (pyproject.toml) ... \u001b[?25ldone\n",
      "\u001b[?25hRequirement already satisfied: python-dateutil>=2.7.3 in /usr/local/lib/python3.7/dist-packages (from pandas) (2.8.2)\n",
      "Requirement already satisfied: six>=1.5 in /usr/lib/python3/dist-packages (from python-dateutil>=2.7.3->pandas) (1.12.0)\n",
      "Building wheels for collected packages: numpy\n",
      "  Building wheel for numpy (pyproject.toml) ... \u001b[?25ldone\n",
      "\u001b[?25h  Created wheel for numpy: filename=numpy-1.21.6-cp37-cp37m-linux_armv7l.whl size=15843762 sha256=b86dccda5566cc1ecc803d03a271156dc5e68c1584c6e758c35cc6125c0df140\n",
      "  Stored in directory: /home/pi/.cache/pip/wheels/4e/7e/9e/0fde042ccff2493994076dac9c3fbd78feb444c3bd94eb386a\n",
      "Successfully built numpy\n",
      "Installing collected packages: numpy, pandas\n",
      "Successfully installed numpy-1.21.6 pandas-1.3.5\n"
     ]
    }
   ],
   "source": [
    "!pip install psycopg2_binary # version for macos\n",
    "!pip install pandas"
   ]
  },
  {
   "cell_type": "markdown",
   "id": "422b0586-6d08-47ff-a859-36985ad0e01b",
   "metadata": {},
   "source": [
    "Import the needed libraries:"
   ]
  },
  {
   "cell_type": "code",
   "execution_count": 7,
   "id": "3b90b15d",
   "metadata": {
    "ExecuteTime": {
     "end_time": "2022-05-02T06:57:07.112459Z",
     "start_time": "2022-05-02T06:57:06.168616Z"
    }
   },
   "outputs": [],
   "source": [
    "import psycopg2\n",
    "import pandas as pd\n",
    "import time\n",
    "from datetime import datetime\n",
    "import random"
   ]
  },
  {
   "cell_type": "markdown",
   "id": "52e99e4a-f82d-4808-ae1a-3b742a2a55b3",
   "metadata": {},
   "source": [
    "Construct connection string for database and connect to it"
   ]
  },
  {
   "cell_type": "code",
   "execution_count": 8,
   "id": "52d06b84-bf00-44c0-8e6f-717838e21609",
   "metadata": {},
   "outputs": [
    {
     "name": "stdout",
     "output_type": "stream",
     "text": [
      "Connection established\n"
     ]
    }
   ],
   "source": [
    "conn = psycopg2.connect(dbname='postgres', user='nimda@iot-zeiss-2504', host='iot-zeiss-2504.postgres.database.azure.com', password='leadml-2022', port='5432', sslmode='require')\n",
    "cursor = conn.cursor()\n",
    "print(\"Connection established\")"
   ]
  },
  {
   "cell_type": "markdown",
   "id": "5f1024c1",
   "metadata": {},
   "source": [
    "# Step 2: Collection"
   ]
  },
  {
   "cell_type": "markdown",
   "id": "76af6e89",
   "metadata": {},
   "source": [
    "**Azure:** Azure is the cloud service from Microsoft. A similar cloud service is AWS from Amazon.\n",
    "<br>\n",
    "**Azure Database:** We use a relational Database on Azure (PostgreSQL - Single Server) to store the collected data. A relational database is a collection of data items with pre-defined relationships between them. These items are organized as a set of tables with columns and rows. Tables are used to hold information about the objects to be represented in the database.\n",
    "<br>\n",
    "**SQL:** SQL is a standard language for storing, manipulating and retrieving data in databases. We will use it to communicate with our database.\n",
    "<br>The SQL commands can be executed with \"cursor.execute(  `SQL command`  )\"."
   ]
  },
  {
   "cell_type": "markdown",
   "id": "4b752212",
   "metadata": {},
   "source": [
    "### Drop previous table of same name (here: 'inventory') if one exists"
   ]
  },
  {
   "cell_type": "code",
   "execution_count": 10,
   "id": "098de3cb",
   "metadata": {
    "ExecuteTime": {
     "end_time": "2022-05-02T06:57:08.843380Z",
     "start_time": "2022-05-02T06:57:08.751084Z"
    }
   },
   "outputs": [
    {
     "name": "stdout",
     "output_type": "stream",
     "text": [
      "Finished dropping table (if existed)\n"
     ]
    }
   ],
   "source": [
    "cursor.execute(\"DROP TABLE IF EXISTS felix_test;\")\n",
    "print(\"Finished dropping table (if existed)\")"
   ]
  },
  {
   "cell_type": "markdown",
   "id": "bae9690a",
   "metadata": {},
   "source": [
    "### Create a table (with name \"inventory\")"
   ]
  },
  {
   "cell_type": "markdown",
   "id": "711e51e2",
   "metadata": {},
   "source": [
    "**columns of the table:**\n",
    "<br>&emsp;    `id` is our primary key and will be increased automatically (natural number, first datapoint has id=0)\n",
    "<br>&emsp;    `air_sensor` could be the data of one of our sensors (decimal number)\n",
    "<br>&emsp;    `sound_sensor` could be the data of one of our sensors (decimal number)\n",
    "<br>&emsp;    `temperature_sensor` could be the data of one of our sensors (decimal number)\n",
    "<br>&emsp;    `date` is the date of the creation of the datapoint (form: 'year-month-day')\n",
    "<br>&emsp;    `time` is the time of creation of the datapoint (form: '00:00:00')"
   ]
  },
  {
   "cell_type": "code",
   "execution_count": 11,
   "id": "4972aeae",
   "metadata": {
    "ExecuteTime": {
     "end_time": "2022-05-02T06:55:33.007397Z",
     "start_time": "2022-05-02T06:55:32.517625Z"
    }
   },
   "outputs": [
    {
     "name": "stdout",
     "output_type": "stream",
     "text": [
      "Finished creating table\n"
     ]
    }
   ],
   "source": [
    "cursor.execute(\"CREATE TABLE felix_test (id serial PRIMARY KEY, air_sensor FLOAT8, sound_sensor FLOAT8, temperature_sensor FLOAT8, date DATE, time TIME);\")\n",
    "print(\"Finished creating table\")"
   ]
  },
  {
   "cell_type": "markdown",
   "id": "c44a8e60",
   "metadata": {},
   "source": [
    "### Collect and insert data into the table"
   ]
  },
  {
   "cell_type": "code",
   "execution_count": 12,
   "id": "3ebbb965",
   "metadata": {
    "ExecuteTime": {
     "end_time": "2022-05-02T06:55:33.677356Z",
     "start_time": "2022-05-02T06:55:33.668831Z"
    }
   },
   "outputs": [],
   "source": [
    "# function to collect the data from the sensors\n",
    "def collect_data():\n",
    "    air_sensor = random.randint(0,100)\n",
    "    sound_sensor = random.randint(0,100)\n",
    "    temperature_sensor = random.randint(0,100)\n",
    "    \n",
    "    return air_sensor, sound_sensor, temperature_sensor"
   ]
  },
  {
   "cell_type": "code",
   "execution_count": 14,
   "id": "999cc121",
   "metadata": {
    "ExecuteTime": {
     "end_time": "2022-05-02T06:55:44.292046Z",
     "start_time": "2022-05-02T06:55:34.250732Z"
    },
    "scrolled": true
   },
   "outputs": [
    {
     "ename": "AttributeError",
     "evalue": "'str' object has no attribute 'time'",
     "output_type": "error",
     "traceback": [
      "\u001b[0;31m---------------------------------------------------------------------------\u001b[0m",
      "\u001b[0;31mAttributeError\u001b[0m                            Traceback (most recent call last)",
      "\u001b[0;32m/tmp/ipykernel_2019/2517359458.py\u001b[0m in \u001b[0;36m<module>\u001b[0;34m\u001b[0m\n\u001b[0;32m----> 1\u001b[0;31m \u001b[0mstart\u001b[0m \u001b[0;34m=\u001b[0m \u001b[0mtime\u001b[0m\u001b[0;34m.\u001b[0m\u001b[0mtime\u001b[0m\u001b[0;34m(\u001b[0m\u001b[0;34m)\u001b[0m\u001b[0;34m\u001b[0m\u001b[0;34m\u001b[0m\u001b[0m\n\u001b[0m\u001b[1;32m      2\u001b[0m \u001b[0mend\u001b[0m \u001b[0;34m=\u001b[0m \u001b[0mtime\u001b[0m\u001b[0;34m.\u001b[0m\u001b[0mtime\u001b[0m\u001b[0;34m(\u001b[0m\u001b[0;34m)\u001b[0m\u001b[0;34m\u001b[0m\u001b[0;34m\u001b[0m\u001b[0m\n\u001b[1;32m      3\u001b[0m \u001b[0;34m\u001b[0m\u001b[0m\n\u001b[1;32m      4\u001b[0m \u001b[0;32mwhile\u001b[0m \u001b[0mend\u001b[0m\u001b[0;34m-\u001b[0m\u001b[0mstart\u001b[0m\u001b[0;34m<\u001b[0m\u001b[0;36m10\u001b[0m\u001b[0;34m:\u001b[0m \u001b[0;31m# collect data for 10 sec\u001b[0m\u001b[0;34m\u001b[0m\u001b[0;34m\u001b[0m\u001b[0m\n\u001b[1;32m      5\u001b[0m \u001b[0;34m\u001b[0m\u001b[0m\n",
      "\u001b[0;31mAttributeError\u001b[0m: 'str' object has no attribute 'time'"
     ]
    }
   ],
   "source": [
    "start = time.time()\n",
    "end = time.time()\n",
    "\n",
    "while end-start<10: # collect data for 10 sec\n",
    "    \n",
    "    # output the passed time\n",
    "    print(\"passed time: \", end-start)\n",
    "    end = time.time()\n",
    "    \n",
    "    # call the 'collect_data' function\n",
    "    air_sensor, sound_sensor, temperature_sensor = collect_data()\n",
    "    date = datetime.today().strftime(\"%Y-%m-%d\")\n",
    "    time = datetime.today().strftime(\"%H:%M:%S\")\n",
    "    \n",
    "    # insert data into the database (here: \"inventory\")\n",
    "    cursor.execute(\"INSERT INTO inventory (air_sensor, sound_sensor, temperature_sensor, date, time) VALUES (%s, %s, %s, %s, %s);\", (air_sensor, sound_sensor, temperature_sensor, date, time))"
   ]
  },
  {
   "cell_type": "markdown",
   "id": "3d2bf440",
   "metadata": {
    "ExecuteTime": {
     "end_time": "2022-05-02T06:25:52.781385Z",
     "start_time": "2022-05-02T06:25:52.776422Z"
    }
   },
   "source": [
    "# Step 3: Visualization"
   ]
  },
  {
   "cell_type": "markdown",
   "id": "aeb792ee",
   "metadata": {},
   "source": [
    "### Read data from database"
   ]
  },
  {
   "cell_type": "code",
   "execution_count": 7,
   "id": "b12d905c",
   "metadata": {
    "ExecuteTime": {
     "end_time": "2022-05-02T06:55:44.386225Z",
     "start_time": "2022-05-02T06:55:44.296481Z"
    }
   },
   "outputs": [
    {
     "data": {
      "text/html": [
       "<div>\n",
       "<style scoped>\n",
       "    .dataframe tbody tr th:only-of-type {\n",
       "        vertical-align: middle;\n",
       "    }\n",
       "\n",
       "    .dataframe tbody tr th {\n",
       "        vertical-align: top;\n",
       "    }\n",
       "\n",
       "    .dataframe thead th {\n",
       "        text-align: right;\n",
       "    }\n",
       "</style>\n",
       "<table border=\"1\" class=\"dataframe\">\n",
       "  <thead>\n",
       "    <tr style=\"text-align: right;\">\n",
       "      <th></th>\n",
       "      <th>air_sensor</th>\n",
       "      <th>sound_sensor</th>\n",
       "      <th>temperature_sensor</th>\n",
       "      <th>date</th>\n",
       "      <th>time</th>\n",
       "    </tr>\n",
       "  </thead>\n",
       "  <tbody>\n",
       "    <tr>\n",
       "      <th>0</th>\n",
       "      <td>96.0</td>\n",
       "      <td>78.0</td>\n",
       "      <td>1.0</td>\n",
       "      <td>2022-05-02</td>\n",
       "      <td>08:55:34</td>\n",
       "    </tr>\n",
       "    <tr>\n",
       "      <th>1</th>\n",
       "      <td>53.0</td>\n",
       "      <td>65.0</td>\n",
       "      <td>50.0</td>\n",
       "      <td>2022-05-02</td>\n",
       "      <td>08:55:34</td>\n",
       "    </tr>\n",
       "    <tr>\n",
       "      <th>2</th>\n",
       "      <td>20.0</td>\n",
       "      <td>90.0</td>\n",
       "      <td>20.0</td>\n",
       "      <td>2022-05-02</td>\n",
       "      <td>08:55:34</td>\n",
       "    </tr>\n",
       "    <tr>\n",
       "      <th>3</th>\n",
       "      <td>56.0</td>\n",
       "      <td>9.0</td>\n",
       "      <td>6.0</td>\n",
       "      <td>2022-05-02</td>\n",
       "      <td>08:55:34</td>\n",
       "    </tr>\n",
       "    <tr>\n",
       "      <th>4</th>\n",
       "      <td>25.0</td>\n",
       "      <td>82.0</td>\n",
       "      <td>18.0</td>\n",
       "      <td>2022-05-02</td>\n",
       "      <td>08:55:34</td>\n",
       "    </tr>\n",
       "    <tr>\n",
       "      <th>5</th>\n",
       "      <td>63.0</td>\n",
       "      <td>74.0</td>\n",
       "      <td>65.0</td>\n",
       "      <td>2022-05-02</td>\n",
       "      <td>08:55:34</td>\n",
       "    </tr>\n",
       "    <tr>\n",
       "      <th>6</th>\n",
       "      <td>18.0</td>\n",
       "      <td>84.0</td>\n",
       "      <td>19.0</td>\n",
       "      <td>2022-05-02</td>\n",
       "      <td>08:55:34</td>\n",
       "    </tr>\n",
       "    <tr>\n",
       "      <th>7</th>\n",
       "      <td>33.0</td>\n",
       "      <td>4.0</td>\n",
       "      <td>78.0</td>\n",
       "      <td>2022-05-02</td>\n",
       "      <td>08:55:34</td>\n",
       "    </tr>\n",
       "    <tr>\n",
       "      <th>8</th>\n",
       "      <td>68.0</td>\n",
       "      <td>66.0</td>\n",
       "      <td>25.0</td>\n",
       "      <td>2022-05-02</td>\n",
       "      <td>08:55:34</td>\n",
       "    </tr>\n",
       "    <tr>\n",
       "      <th>9</th>\n",
       "      <td>45.0</td>\n",
       "      <td>62.0</td>\n",
       "      <td>78.0</td>\n",
       "      <td>2022-05-02</td>\n",
       "      <td>08:55:34</td>\n",
       "    </tr>\n",
       "  </tbody>\n",
       "</table>\n",
       "</div>"
      ],
      "text/plain": [
       "   air_sensor  sound_sensor  temperature_sensor        date      time\n",
       "0        96.0          78.0                 1.0  2022-05-02  08:55:34\n",
       "1        53.0          65.0                50.0  2022-05-02  08:55:34\n",
       "2        20.0          90.0                20.0  2022-05-02  08:55:34\n",
       "3        56.0           9.0                 6.0  2022-05-02  08:55:34\n",
       "4        25.0          82.0                18.0  2022-05-02  08:55:34\n",
       "5        63.0          74.0                65.0  2022-05-02  08:55:34\n",
       "6        18.0          84.0                19.0  2022-05-02  08:55:34\n",
       "7        33.0           4.0                78.0  2022-05-02  08:55:34\n",
       "8        68.0          66.0                25.0  2022-05-02  08:55:34\n",
       "9        45.0          62.0                78.0  2022-05-02  08:55:34"
      ]
     },
     "execution_count": 7,
     "metadata": {},
     "output_type": "execute_result"
    }
   ],
   "source": [
    "# Fetch all rows from table (here 'inventory')\n",
    "cursor.execute(\"SELECT air_sensor, sound_sensor, temperature_sensor, date, time FROM inventory;\")\n",
    "rows = cursor.fetchall()\n",
    "    \n",
    "# Create DataFrame with rows\n",
    "df = pd.DataFrame(rows, columns=[\"air_sensor\", \"sound_sensor\", \"temperature_sensor\", \"date\", \"time\"])\n",
    "\n",
    "# show the first 10 rows of it\n",
    "df.head(10)"
   ]
  },
  {
   "cell_type": "markdown",
   "id": "86659584",
   "metadata": {},
   "source": [
    "### Plot data "
   ]
  },
  {
   "cell_type": "code",
   "execution_count": 10,
   "id": "11596b35",
   "metadata": {
    "ExecuteTime": {
     "end_time": "2022-05-02T06:56:10.572517Z",
     "start_time": "2022-05-02T06:56:10.466276Z"
    }
   },
   "outputs": [
    {
     "data": {
      "text/plain": [
       "<AxesSubplot:>"
      ]
     },
     "execution_count": 10,
     "metadata": {},
     "output_type": "execute_result"
    },
    {
     "data": {
      "image/png": "[encoded data removed]",
      "text/plain": [
       "<Figure size 432x288 with 1 Axes>"
      ]
     },
     "metadata": {
      "needs_background": "light"
     },
     "output_type": "display_data"
    }
   ],
   "source": [
    "# create a histogram of the column 'air_sensor'\n",
    "df[\"air_sensor\"].hist()"
   ]
  },
  {
   "cell_type": "markdown",
   "id": "7ef9618a",
   "metadata": {},
   "source": [
    "# Step 4: Your use-case"
   ]
  },
  {
   "cell_type": "markdown",
   "id": "6715521f",
   "metadata": {},
   "source": [
    "You have completed the tutorial and you are now ready to go up and adjust the code according to your use-case. Good Luck :-)"
   ]
  },
  {
   "cell_type": "markdown",
   "id": "6f514ec9",
   "metadata": {},
   "source": [
    "# Step 5: Close the connection to the database"
   ]
  },
  {
   "cell_type": "code",
   "execution_count": 15,
   "id": "f7102bf1",
   "metadata": {
    "ExecuteTime": {
     "end_time": "2022-05-02T06:56:45.557760Z",
     "start_time": "2022-05-02T06:56:45.319817Z"
    }
   },
   "outputs": [
    {
     "name": "stdout",
     "output_type": "stream",
     "text": [
      "connection closed\n"
     ]
    }
   ],
   "source": [
    "conn.commit()\n",
    "cursor.close()\n",
    "conn.close()\n",
    "print(\"connection closed\")"
   ]
  },
  {
   "cell_type": "code",
   "execution_count": null,
   "id": "88f21d8a",
   "metadata": {},
   "outputs": [],
   "source": []
  }
 ],
 "metadata": {
  "kernelspec": {
   "display_name": "Python 3 (ipykernel)",
   "language": "python",
   "name": "python3"
  },
  "language_info": {
   "codemirror_mode": {
    "name": "ipython",
    "version": 3
   },
   "file_extension": ".py",
   "mimetype": "text/x-python",
   "name": "python",
   "nbconvert_exporter": "python",
   "pygments_lexer": "ipython3",
   "version": "3.7.3"
  },
  "toc": {
   "base_numbering": 1,
   "nav_menu": {},
   "number_sections": true,
   "sideBar": true,
   "skip_h1_title": false,
   "title_cell": "Table of Contents",
   "title_sidebar": "Contents",
   "toc_cell": false,
   "toc_position": {},
   "toc_section_display": true,
   "toc_window_display": false
  }
 },
 "nbformat": 4,
 "nbformat_minor": 5
}
