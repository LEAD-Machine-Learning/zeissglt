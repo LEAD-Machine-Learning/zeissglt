{
 "cells": [
  {
   "cell_type": "markdown",
   "id": "60d8258e",
   "metadata": {},
   "source": [
    "# IoT Stream Zeiss 2022"
   ]
  },
  {
   "attachments": {},
   "cell_type": "markdown",
   "id": "9795a6ae",
   "metadata": {},
   "source": [
    "**Steps overview:**\n",
    "<br>&emsp; `Step 1: Setup`\n",
    "<br>&emsp;&emsp; - import libraries that you need for your program\n",
    "<br>&emsp;&emsp; - create a connection to your database\n",
    "<br>&emsp; `Step 2: Collection`\n",
    "<br>&emsp;&emsp; - create a table in your database\n",
    "<br>&emsp;&emsp; - collect and store data into your database\n",
    "<br>&emsp; `Step 3: Visualization`\n",
    "<br>&emsp;&emsp; - access the data in the database\n",
    "<br>&emsp;&emsp; - create plots of the data\n",
    "<br>&emsp; `Step 4: Your use-case`\n",
    "<br>&emsp;&emsp; - set up a table according to your use-case requirements\n",
    "<br>&emsp;&emsp; - collect data for your use-case and store it in the database\n",
    "<br>&emsp; `Step 5: Close the connection to the database`\n",
    "<br>&emsp;&emsp; - after all the work you just have to close the connection to your database"
   ]
  },
  {
   "cell_type": "markdown",
   "id": "e0e363c0",
   "metadata": {},
   "source": [
    "# Step 1: Setup"
   ]
  },
  {
   "cell_type": "raw",
   "id": "b3de2d02",
   "metadata": {},
   "source": [
    "!pip install psycopg2-binary # version for macos"
   ]
  },
  {
   "cell_type": "code",
   "execution_count": 12,
   "id": "3b90b15d",
   "metadata": {
    "ExecuteTime": {
     "end_time": "2022-05-02T06:57:07.112459Z",
     "start_time": "2022-05-02T06:57:06.168616Z"
    }
   },
   "outputs": [
    {
     "name": "stdout",
     "output_type": "stream",
     "text": [
      "Connection established\n"
     ]
    }
   ],
   "source": [
    "# import the needed libraries\n",
    "import psycopg2\n",
    "import pandas as pd\n",
    "import time\n",
    "from datetime import datetime\n",
    "import random\n",
    "\n",
    "# Construct connection string for database and connect to it\n",
    "conn = psycopg2.connect(dbname='postgres', user='nimda@iot-zeiss-2504', host='iot-zeiss-2504.postgres.database.azure.com', password='leadml-2022', port='5432', sslmode='require')\n",
    "cursor = conn.cursor()\n",
    "print(\"Connection established\")"
   ]
  },
  {
   "cell_type": "markdown",
   "id": "5f1024c1",
   "metadata": {},
   "source": [
    "# Step 2: Collection"
   ]
  },
  {
   "attachments": {},
   "cell_type": "markdown",
   "id": "76af6e89",
   "metadata": {},
   "source": [
    "**Azure:** Azure is the cloud service from Microsoft. A similar cloud service is AWS from Amazon.\n",
    "<br>\n",
    "**Azure Database:** We use a relational Database on Azure (PostgreSQL - Single Server) to store the collected data. A relational database is a collection of data items with pre-defined relationships between them. These items are organized as a set of tables with columns and rows. Tables are used to hold information about the objects to be represented in the database.\n",
    "<br>\n",
    "**SQL:** SQL is a standard language for storing, manipulating and retrieving data in databases. We will use it to communicate with our database.\n",
    "<br>The SQL commands can be executed with \"cursor.execute(  `SQL command`  )\"."
   ]
  },
  {
   "cell_type": "markdown",
   "id": "4b752212",
   "metadata": {},
   "source": [
    "### Drop previous table of same name (here: 'inventory') if one exists"
   ]
  },
  {
   "cell_type": "code",
   "execution_count": 13,
   "id": "098de3cb",
   "metadata": {
    "ExecuteTime": {
     "end_time": "2022-05-02T06:57:08.843380Z",
     "start_time": "2022-05-02T06:57:08.751084Z"
    }
   },
   "outputs": [
    {
     "name": "stdout",
     "output_type": "stream",
     "text": [
      "Finished dropping table (if existed)\n"
     ]
    }
   ],
   "source": [
    "cursor.execute(\"DROP TABLE IF EXISTS inventory;\")\n",
    "print(\"Finished dropping table (if existed)\")"
   ]
  },
  {
   "cell_type": "markdown",
   "id": "bae9690a",
   "metadata": {},
   "source": [
    "### Create a table (with name \"inventory\")"
   ]
  },
  {
   "cell_type": "markdown",
   "id": "711e51e2",
   "metadata": {},
   "source": [
    "**columns of the table:**\n",
    "<br>&emsp;    `id` is our primary key and will be increased automatically (natural number, first datapoint has id=0)\n",
    "<br>&emsp;    `air_sensor` could be the data of one of our sensors (decimal number)\n",
    "<br>&emsp;    `sound_sensor` could be the data of one of our sensors (decimal number)\n",
    "<br>&emsp;    `temperature_sensor` could be the data of one of our sensors (decimal number)\n",
    "<br>&emsp;    `date` is the date of the creation of the datapoint (form: 'year-month-day')\n",
    "<br>&emsp;    `time` is the time of creation of the datapoint (form: '00:00:00')"
   ]
  },
  {
   "cell_type": "code",
   "execution_count": 4,
   "id": "4972aeae",
   "metadata": {
    "ExecuteTime": {
     "end_time": "2022-05-02T06:55:33.007397Z",
     "start_time": "2022-05-02T06:55:32.517625Z"
    }
   },
   "outputs": [
    {
     "name": "stdout",
     "output_type": "stream",
     "text": [
      "Finished creating table\n"
     ]
    }
   ],
   "source": [
    "cursor.execute(\"CREATE TABLE inventory (id serial PRIMARY KEY, air_sensor FLOAT8, sound_sensor FLOAT8, temperature_sensor FLOAT8, date DATE, time TIME);\")\n",
    "print(\"Finished creating table\")"
   ]
  },
  {
   "cell_type": "markdown",
   "id": "c44a8e60",
   "metadata": {},
   "source": [
    "### Collect and insert data into the table"
   ]
  },
  {
   "cell_type": "code",
   "execution_count": 5,
   "id": "3ebbb965",
   "metadata": {
    "ExecuteTime": {
     "end_time": "2022-05-02T06:55:33.677356Z",
     "start_time": "2022-05-02T06:55:33.668831Z"
    }
   },
   "outputs": [],
   "source": [
    "# function to collect the data from the sensors\n",
    "def collect_data():\n",
    "    air_sensor = random.randint(0,100)\n",
    "    sound_sensor = random.randint(0,100)\n",
    "    temperature_sensor = random.randint(0,100)\n",
    "    \n",
    "    return air_sensor, sound_sensor, temperature_sensor"
   ]
  },
  {
   "cell_type": "code",
   "execution_count": 6,
   "id": "999cc121",
   "metadata": {
    "ExecuteTime": {
     "end_time": "2022-05-02T06:55:44.292046Z",
     "start_time": "2022-05-02T06:55:34.250732Z"
    },
    "scrolled": true
   },
   "outputs": [
    {
     "name": "stdout",
     "output_type": "stream",
     "text": [
      "passed time:  5.1975250244140625e-05\n",
      "passed time:  0.0006110668182373047\n",
      "passed time:  0.09905695915222168\n",
      "passed time:  0.1357710361480713\n",
      "passed time:  0.17162704467773438\n",
      "passed time:  0.20503711700439453\n",
      "passed time:  0.23970603942871094\n",
      "passed time:  0.2739741802215576\n",
      "passed time:  0.30630993843078613\n",
      "passed time:  0.3441622257232666\n",
      "passed time:  0.37871503829956055\n",
      "passed time:  0.4138340950012207\n",
      "passed time:  0.4507410526275635\n",
      "passed time:  0.48635196685791016\n",
      "passed time:  0.5211400985717773\n",
      "passed time:  0.5565152168273926\n",
      "passed time:  0.5927670001983643\n",
      "passed time:  0.6280031204223633\n",
      "passed time:  0.6641709804534912\n",
      "passed time:  0.6997570991516113\n",
      "passed time:  0.7361900806427002\n",
      "passed time:  0.772590160369873\n",
      "passed time:  0.8085918426513672\n",
      "passed time:  0.8437490463256836\n",
      "passed time:  0.879127025604248\n",
      "passed time:  0.9124660491943359\n",
      "passed time:  0.9479150772094727\n",
      "passed time:  0.9798870086669922\n",
      "passed time:  1.0156099796295166\n",
      "passed time:  1.0514121055603027\n",
      "passed time:  1.0875751972198486\n",
      "passed time:  1.1249330043792725\n",
      "passed time:  1.1610620021820068\n",
      "passed time:  1.1931378841400146\n",
      "passed time:  1.22957181930542\n",
      "passed time:  1.261652946472168\n",
      "passed time:  1.2978310585021973\n",
      "passed time:  1.3333051204681396\n",
      "passed time:  1.3700518608093262\n",
      "passed time:  1.4042189121246338\n",
      "passed time:  1.4393360614776611\n",
      "passed time:  1.4740180969238281\n",
      "passed time:  1.5102438926696777\n",
      "passed time:  1.5451011657714844\n",
      "passed time:  1.5806999206542969\n",
      "passed time:  1.6160359382629395\n",
      "passed time:  1.6506450176239014\n",
      "passed time:  1.6816520690917969\n",
      "passed time:  1.7166118621826172\n",
      "passed time:  1.7525599002838135\n",
      "passed time:  1.7855420112609863\n",
      "passed time:  1.8208279609680176\n",
      "passed time:  1.856234073638916\n",
      "passed time:  1.9305360317230225\n",
      "passed time:  2.0215718746185303\n",
      "passed time:  2.0984621047973633\n",
      "passed time:  2.134521245956421\n",
      "passed time:  2.164412021636963\n",
      "passed time:  2.199867010116577\n",
      "passed time:  2.2327518463134766\n",
      "passed time:  2.265942096710205\n",
      "passed time:  2.3035552501678467\n",
      "passed time:  2.338787794113159\n",
      "passed time:  2.37227201461792\n",
      "passed time:  2.4044501781463623\n",
      "passed time:  2.438962936401367\n",
      "passed time:  2.4727280139923096\n",
      "passed time:  2.5088369846343994\n",
      "passed time:  2.544342041015625\n",
      "passed time:  2.5790040493011475\n",
      "passed time:  2.620204210281372\n",
      "passed time:  2.6517460346221924\n",
      "passed time:  2.6941471099853516\n",
      "passed time:  2.7304608821868896\n",
      "passed time:  2.765307903289795\n",
      "passed time:  2.800846815109253\n",
      "passed time:  2.8359591960906982\n",
      "passed time:  2.8710200786590576\n",
      "passed time:  2.9047508239746094\n",
      "passed time:  2.9399750232696533\n",
      "passed time:  2.975919008255005\n",
      "passed time:  3.011955976486206\n",
      "passed time:  3.047020196914673\n",
      "passed time:  3.081484079360962\n",
      "passed time:  3.117521047592163\n",
      "passed time:  3.1484460830688477\n",
      "passed time:  3.183901071548462\n",
      "passed time:  3.2191050052642822\n",
      "passed time:  3.2556309700012207\n",
      "passed time:  3.29167103767395\n",
      "passed time:  3.3268330097198486\n",
      "passed time:  3.363586187362671\n",
      "passed time:  3.3985280990600586\n",
      "passed time:  3.4342029094696045\n",
      "passed time:  3.4681880474090576\n",
      "passed time:  3.4992780685424805\n",
      "passed time:  3.534048080444336\n",
      "passed time:  3.5669021606445312\n",
      "passed time:  3.6013920307159424\n",
      "passed time:  3.6357040405273438\n",
      "passed time:  3.6678249835968018\n",
      "passed time:  3.7032461166381836\n",
      "passed time:  3.7384369373321533\n",
      "passed time:  3.7735471725463867\n",
      "passed time:  3.815355062484741\n",
      "passed time:  3.850253105163574\n",
      "passed time:  3.8847780227661133\n",
      "passed time:  3.9202840328216553\n",
      "passed time:  3.95650315284729\n",
      "passed time:  4.022549152374268\n",
      "passed time:  4.058557987213135\n",
      "passed time:  4.093819856643677\n",
      "passed time:  4.128736972808838\n",
      "passed time:  4.161128997802734\n",
      "passed time:  4.197294235229492\n",
      "passed time:  4.228296995162964\n",
      "passed time:  4.263848066329956\n",
      "passed time:  4.296704053878784\n",
      "passed time:  4.33336615562439\n",
      "passed time:  4.3708579540252686\n",
      "passed time:  4.406352996826172\n",
      "passed time:  4.442698001861572\n",
      "passed time:  4.478318929672241\n",
      "passed time:  4.5078511238098145\n",
      "passed time:  4.543872117996216\n",
      "passed time:  4.575775146484375\n",
      "passed time:  4.687530994415283\n",
      "passed time:  4.737709045410156\n",
      "passed time:  4.777898073196411\n",
      "passed time:  4.818887948989868\n",
      "passed time:  4.851298093795776\n",
      "passed time:  4.887969017028809\n",
      "passed time:  4.92209792137146\n",
      "passed time:  4.95414400100708\n",
      "passed time:  4.989026069641113\n",
      "passed time:  5.021091938018799\n",
      "passed time:  5.05770206451416\n",
      "passed time:  5.092826843261719\n",
      "passed time:  5.125294208526611\n",
      "passed time:  5.160610198974609\n",
      "passed time:  5.195641994476318\n",
      "passed time:  5.231840133666992\n",
      "passed time:  5.267040014266968\n",
      "passed time:  5.300146102905273\n",
      "passed time:  5.335086107254028\n",
      "passed time:  5.389916896820068\n",
      "passed time:  5.422996997833252\n",
      "passed time:  5.458471059799194\n",
      "passed time:  5.493687152862549\n",
      "passed time:  5.529038190841675\n",
      "passed time:  5.564098119735718\n",
      "passed time:  5.598778963088989\n",
      "passed time:  5.635731935501099\n",
      "passed time:  5.670341968536377\n",
      "passed time:  5.705859899520874\n",
      "passed time:  5.741193056106567\n",
      "passed time:  5.777585983276367\n",
      "passed time:  5.813228130340576\n",
      "passed time:  5.8496739864349365\n",
      "passed time:  5.886540174484253\n",
      "passed time:  5.921910047531128\n",
      "passed time:  5.953289985656738\n",
      "passed time:  5.988713979721069\n",
      "passed time:  6.024584054946899\n",
      "passed time:  6.067651033401489\n",
      "passed time:  6.097731828689575\n",
      "passed time:  6.133057117462158\n",
      "passed time:  6.167182207107544\n",
      "passed time:  6.202100992202759\n",
      "passed time:  6.237612009048462\n",
      "passed time:  6.28190016746521\n",
      "passed time:  6.314547061920166\n",
      "passed time:  6.350092172622681\n",
      "passed time:  6.383941888809204\n",
      "passed time:  6.414557933807373\n",
      "passed time:  6.456770181655884\n",
      "passed time:  6.4919140338897705\n",
      "passed time:  6.522528171539307\n",
      "passed time:  6.555630922317505\n",
      "passed time:  6.594128847122192\n",
      "passed time:  6.631489038467407\n",
      "passed time:  6.667165994644165\n",
      "passed time:  6.7030229568481445\n",
      "passed time:  6.7392919063568115\n",
      "passed time:  6.7768330574035645\n",
      "passed time:  6.80987024307251\n",
      "passed time:  6.846295118331909\n",
      "passed time:  6.889665126800537\n",
      "passed time:  6.924407005310059\n",
      "passed time:  6.955530166625977\n",
      "passed time:  6.990171909332275\n",
      "passed time:  7.025885105133057\n",
      "passed time:  7.055727005004883\n",
      "passed time:  7.092067241668701\n",
      "passed time:  7.127110958099365\n",
      "passed time:  7.163583993911743\n",
      "passed time:  7.2058069705963135\n",
      "passed time:  7.240925073623657\n",
      "passed time:  7.276391983032227\n",
      "passed time:  7.312885999679565\n",
      "passed time:  7.3502349853515625\n",
      "passed time:  7.385335206985474\n",
      "passed time:  7.421537160873413\n",
      "passed time:  7.453629016876221\n",
      "passed time:  7.4839911460876465\n",
      "passed time:  7.520279169082642\n",
      "passed time:  7.555356025695801\n",
      "passed time:  7.590527057647705\n",
      "passed time:  7.625003099441528\n",
      "passed time:  7.660621166229248\n",
      "passed time:  7.695487022399902\n",
      "passed time:  7.728424072265625\n",
      "passed time:  7.763520002365112\n",
      "passed time:  7.798784017562866\n",
      "passed time:  7.835980176925659\n",
      "passed time:  7.872466087341309\n",
      "passed time:  7.908619165420532\n",
      "passed time:  7.93957781791687\n",
      "passed time:  7.975471019744873\n",
      "passed time:  8.011132001876831\n",
      "passed time:  8.047052145004272\n",
      "passed time:  8.083622932434082\n",
      "passed time:  8.120541095733643\n",
      "passed time:  8.15463900566101\n",
      "passed time:  8.18797492980957\n",
      "passed time:  8.220513105392456\n",
      "passed time:  8.256422996520996\n",
      "passed time:  8.291851997375488\n",
      "passed time:  8.327221155166626\n",
      "passed time:  8.36327314376831\n",
      "passed time:  8.399296045303345\n",
      "passed time:  8.435009002685547\n",
      "passed time:  8.470033884048462\n",
      "passed time:  8.505574941635132\n",
      "passed time:  8.542632102966309\n",
      "passed time:  8.577821016311646\n",
      "passed time:  8.613517045974731\n",
      "passed time:  8.652858972549438\n",
      "passed time:  8.688300132751465\n",
      "passed time:  8.728316068649292\n",
      "passed time:  8.762785196304321\n",
      "passed time:  8.805449962615967\n",
      "passed time:  8.839570999145508\n",
      "passed time:  8.874796152114868\n",
      "passed time:  8.912561893463135\n",
      "passed time:  8.953203916549683\n",
      "passed time:  8.988932847976685\n",
      "passed time:  9.021337985992432\n",
      "passed time:  9.05647897720337\n",
      "passed time:  9.091770887374878\n",
      "passed time:  9.128472805023193\n",
      "passed time:  9.16472601890564\n",
      "passed time:  9.19974398612976\n",
      "passed time:  9.232454061508179\n",
      "passed time:  9.266478061676025\n",
      "passed time:  9.301573038101196\n",
      "passed time:  9.338040113449097\n"
     ]
    },
    {
     "name": "stdout",
     "output_type": "stream",
     "text": [
      "passed time:  9.373085021972656\n",
      "passed time:  9.4083731174469\n",
      "passed time:  9.444427013397217\n",
      "passed time:  9.480383157730103\n",
      "passed time:  9.516156911849976\n",
      "passed time:  9.552298069000244\n",
      "passed time:  9.587502241134644\n",
      "passed time:  9.621838092803955\n",
      "passed time:  9.656932830810547\n",
      "passed time:  9.691007137298584\n",
      "passed time:  9.725124835968018\n",
      "passed time:  9.761672973632812\n",
      "passed time:  9.7955961227417\n",
      "passed time:  9.830989122390747\n",
      "passed time:  9.86770510673523\n",
      "passed time:  9.899518966674805\n",
      "passed time:  9.933182001113892\n",
      "passed time:  9.969379186630249\n"
     ]
    }
   ],
   "source": [
    "start = time.time()\n",
    "end = time.time()\n",
    "\n",
    "while end-start<10: # collect data for 10 sec\n",
    "    \n",
    "    # output the passed time\n",
    "    print(\"passed time: \", end-start)\n",
    "    end = time.time()\n",
    "    \n",
    "    # call the 'collect_data' function\n",
    "    air_sensor, sound_sensor, temperature_sensor = collect_data()\n",
    "    date = datetime.today().strftime(\"%Y-%m-%d\")\n",
    "    time = datetime.today().strftime(\"%H:%M:%S\")\n",
    "    \n",
    "    # insert data into the database (here: \"inventory\")\n",
    "    cursor.execute(\"INSERT INTO inventory (air_sensor, sound_sensor, temperature_sensor, date, time) VALUES (%s, %s, %s, %s, %s);\", (air_sensor, sound_sensor, temperature_sensor, date, time))"
   ]
  },
  {
   "cell_type": "markdown",
   "id": "3d2bf440",
   "metadata": {
    "ExecuteTime": {
     "end_time": "2022-05-02T06:25:52.781385Z",
     "start_time": "2022-05-02T06:25:52.776422Z"
    }
   },
   "source": [
    "# Step 3: Visualization"
   ]
  },
  {
   "cell_type": "markdown",
   "id": "aeb792ee",
   "metadata": {},
   "source": [
    "### Read data from database"
   ]
  },
  {
   "cell_type": "code",
   "execution_count": 7,
   "id": "b12d905c",
   "metadata": {
    "ExecuteTime": {
     "end_time": "2022-05-02T06:55:44.386225Z",
     "start_time": "2022-05-02T06:55:44.296481Z"
    }
   },
   "outputs": [
    {
     "data": {
      "text/html": [
       "<div>\n",
       "<style scoped>\n",
       "    .dataframe tbody tr th:only-of-type {\n",
       "        vertical-align: middle;\n",
       "    }\n",
       "\n",
       "    .dataframe tbody tr th {\n",
       "        vertical-align: top;\n",
       "    }\n",
       "\n",
       "    .dataframe thead th {\n",
       "        text-align: right;\n",
       "    }\n",
       "</style>\n",
       "<table border=\"1\" class=\"dataframe\">\n",
       "  <thead>\n",
       "    <tr style=\"text-align: right;\">\n",
       "      <th></th>\n",
       "      <th>air_sensor</th>\n",
       "      <th>sound_sensor</th>\n",
       "      <th>temperature_sensor</th>\n",
       "      <th>date</th>\n",
       "      <th>time</th>\n",
       "    </tr>\n",
       "  </thead>\n",
       "  <tbody>\n",
       "    <tr>\n",
       "      <th>0</th>\n",
       "      <td>96.0</td>\n",
       "      <td>78.0</td>\n",
       "      <td>1.0</td>\n",
       "      <td>2022-05-02</td>\n",
       "      <td>08:55:34</td>\n",
       "    </tr>\n",
       "    <tr>\n",
       "      <th>1</th>\n",
       "      <td>53.0</td>\n",
       "      <td>65.0</td>\n",
       "      <td>50.0</td>\n",
       "      <td>2022-05-02</td>\n",
       "      <td>08:55:34</td>\n",
       "    </tr>\n",
       "    <tr>\n",
       "      <th>2</th>\n",
       "      <td>20.0</td>\n",
       "      <td>90.0</td>\n",
       "      <td>20.0</td>\n",
       "      <td>2022-05-02</td>\n",
       "      <td>08:55:34</td>\n",
       "    </tr>\n",
       "    <tr>\n",
       "      <th>3</th>\n",
       "      <td>56.0</td>\n",
       "      <td>9.0</td>\n",
       "      <td>6.0</td>\n",
       "      <td>2022-05-02</td>\n",
       "      <td>08:55:34</td>\n",
       "    </tr>\n",
       "    <tr>\n",
       "      <th>4</th>\n",
       "      <td>25.0</td>\n",
       "      <td>82.0</td>\n",
       "      <td>18.0</td>\n",
       "      <td>2022-05-02</td>\n",
       "      <td>08:55:34</td>\n",
       "    </tr>\n",
       "    <tr>\n",
       "      <th>5</th>\n",
       "      <td>63.0</td>\n",
       "      <td>74.0</td>\n",
       "      <td>65.0</td>\n",
       "      <td>2022-05-02</td>\n",
       "      <td>08:55:34</td>\n",
       "    </tr>\n",
       "    <tr>\n",
       "      <th>6</th>\n",
       "      <td>18.0</td>\n",
       "      <td>84.0</td>\n",
       "      <td>19.0</td>\n",
       "      <td>2022-05-02</td>\n",
       "      <td>08:55:34</td>\n",
       "    </tr>\n",
       "    <tr>\n",
       "      <th>7</th>\n",
       "      <td>33.0</td>\n",
       "      <td>4.0</td>\n",
       "      <td>78.0</td>\n",
       "      <td>2022-05-02</td>\n",
       "      <td>08:55:34</td>\n",
       "    </tr>\n",
       "    <tr>\n",
       "      <th>8</th>\n",
       "      <td>68.0</td>\n",
       "      <td>66.0</td>\n",
       "      <td>25.0</td>\n",
       "      <td>2022-05-02</td>\n",
       "      <td>08:55:34</td>\n",
       "    </tr>\n",
       "    <tr>\n",
       "      <th>9</th>\n",
       "      <td>45.0</td>\n",
       "      <td>62.0</td>\n",
       "      <td>78.0</td>\n",
       "      <td>2022-05-02</td>\n",
       "      <td>08:55:34</td>\n",
       "    </tr>\n",
       "  </tbody>\n",
       "</table>\n",
       "</div>"
      ],
      "text/plain": [
       "   air_sensor  sound_sensor  temperature_sensor        date      time\n",
       "0        96.0          78.0                 1.0  2022-05-02  08:55:34\n",
       "1        53.0          65.0                50.0  2022-05-02  08:55:34\n",
       "2        20.0          90.0                20.0  2022-05-02  08:55:34\n",
       "3        56.0           9.0                 6.0  2022-05-02  08:55:34\n",
       "4        25.0          82.0                18.0  2022-05-02  08:55:34\n",
       "5        63.0          74.0                65.0  2022-05-02  08:55:34\n",
       "6        18.0          84.0                19.0  2022-05-02  08:55:34\n",
       "7        33.0           4.0                78.0  2022-05-02  08:55:34\n",
       "8        68.0          66.0                25.0  2022-05-02  08:55:34\n",
       "9        45.0          62.0                78.0  2022-05-02  08:55:34"
      ]
     },
     "execution_count": 7,
     "metadata": {},
     "output_type": "execute_result"
    }
   ],
   "source": [
    "# Fetch all rows from table (here 'inventory')\n",
    "cursor.execute(\"SELECT air_sensor, sound_sensor, temperature_sensor, date, time FROM inventory;\")\n",
    "rows = cursor.fetchall()\n",
    "    \n",
    "# Create DataFrame with rows\n",
    "df = pd.DataFrame(rows, columns=[\"air_sensor\", \"sound_sensor\", \"temperature_sensor\", \"date\", \"time\"])\n",
    "\n",
    "# show the first 10 rows of it\n",
    "df.head(10)"
   ]
  },
  {
   "cell_type": "markdown",
   "id": "86659584",
   "metadata": {},
   "source": [
    "### Plot data "
   ]
  },
  {
   "cell_type": "code",
   "execution_count": 10,
   "id": "11596b35",
   "metadata": {
    "ExecuteTime": {
     "end_time": "2022-05-02T06:56:10.572517Z",
     "start_time": "2022-05-02T06:56:10.466276Z"
    }
   },
   "outputs": [
    {
     "data": {
      "text/plain": [
       "<AxesSubplot:>"
      ]
     },
     "execution_count": 10,
     "metadata": {},
     "output_type": "execute_result"
    },
    {
     "data": {
      "image/png": "[encoded data removed]",
      "text/plain": [
       "<Figure size 432x288 with 1 Axes>"
      ]
     },
     "metadata": {
      "needs_background": "light"
     },
     "output_type": "display_data"
    }
   ],
   "source": [
    "# create a histogram of the column 'air_sensor'\n",
    "df[\"air_sensor\"].hist()"
   ]
  },
  {
   "cell_type": "markdown",
   "id": "7ef9618a",
   "metadata": {},
   "source": [
    "# Step 4: Your use-case"
   ]
  },
  {
   "cell_type": "markdown",
   "id": "6715521f",
   "metadata": {},
   "source": [
    "You have completed the tutorial and you are now ready to go up and adjust the code according to your use-case. Good Luck :-)"
   ]
  },
  {
   "cell_type": "markdown",
   "id": "6f514ec9",
   "metadata": {},
   "source": [
    "# Step 5: Close the connection to the database"
   ]
  },
  {
   "cell_type": "code",
   "execution_count": 11,
   "id": "f7102bf1",
   "metadata": {
    "ExecuteTime": {
     "end_time": "2022-05-02T06:56:45.557760Z",
     "start_time": "2022-05-02T06:56:45.319817Z"
    }
   },
   "outputs": [
    {
     "name": "stdout",
     "output_type": "stream",
     "text": [
      "connection closed\n"
     ]
    }
   ],
   "source": [
    "conn.commit()\n",
    "cursor.close()\n",
    "conn.close()\n",
    "print(\"connection closed\")"
   ]
  },
  {
   "cell_type": "code",
   "execution_count": null,
   "id": "88f21d8a",
   "metadata": {},
   "outputs": [],
   "source": []
  }
 ],
 "metadata": {
  "kernelspec": {
   "display_name": "Python 3 (ipykernel)",
   "language": "python",
   "name": "python3"
  },
  "language_info": {
   "codemirror_mode": {
    "name": "ipython",
    "version": 3
   },
   "file_extension": ".py",
   "mimetype": "text/x-python",
   "name": "python",
   "nbconvert_exporter": "python",
   "pygments_lexer": "ipython3",
   "version": "3.9.7"
  },
  "toc": {
   "base_numbering": 1,
   "nav_menu": {},
   "number_sections": true,
   "sideBar": true,
   "skip_h1_title": false,
   "title_cell": "Table of Contents",
   "title_sidebar": "Contents",
   "toc_cell": false,
   "toc_position": {},
   "toc_section_display": true,
   "toc_window_display": false
  }
 },
 "nbformat": 4,
 "nbformat_minor": 5
}
