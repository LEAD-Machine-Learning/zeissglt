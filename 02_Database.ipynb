{
 "cells": [
  {
   "cell_type": "markdown",
   "id": "60d8258e",
   "metadata": {},
   "source": [
    "# IoT Stream Zeiss 2022"
   ]
  },
  {
   "cell_type": "markdown",
   "id": "9795a6ae",
   "metadata": {},
   "source": [
    "This notebook is about storing and accessing data to/from a SQL database that is hosted on Azure. You will be guided through some examples. Afterwards you apply the learned to your use-case.\n",
    "\n",
    "Explanation of terms:\n",
    "\n",
    "**Azure:** Azure is the cloud service from Microsoft. A similar cloud service is AWS from Amazon.\n",
    "<br>\n",
    "**Azure Database:** We use a relational Database on Azure (PostgreSQL - Single Server) to store the collected data. A relational database is a collection of data items with pre-defined relationships between them. These items are organized as a set of tables with columns and rows. Tables are used to hold information about the objects to be represented in the database.\n",
    "<br>\n",
    "**SQL:** SQL is a standard language for storing, manipulating and retrieving data in databases. We will use it to communicate with our database.\n",
    "<br>The SQL commands can be executed with `cursor.execute( SQLcommand )`\n",
    "\n",
    "**For SQL basics see Notebook 00_Basics.ipynb**\n",
    "\n",
    "**Steps overview:**\n",
    "<br>&emsp; `Step 1: Setup`\n",
    "<br>&emsp;&emsp; - import libraries that you need for your program\n",
    "<br>&emsp;&emsp; - create a connection to your database\n",
    "<br>&emsp; `Step 2: Collection`\n",
    "<br>&emsp;&emsp; - create a table in your database\n",
    "<br>&emsp;&emsp; - collect and store data into your database\n",
    "<br>&emsp; `Step 3: Visualization`\n",
    "<br>&emsp;&emsp; - access the data in the database\n",
    "<br>&emsp;&emsp; - create plots of the data\n",
    "<br>&emsp; `Step 4: Your use-case`\n",
    "<br>&emsp;&emsp; - set up a table according to your use-case requirements\n",
    "<br>&emsp;&emsp; - collect data for your use-case and store it in the database\n",
    "<br>&emsp; `Step 5: Close the connection to the database`\n",
    "<br>&emsp;&emsp; - after all the work you just have to close the connection to your database"
   ]
  },
  {
   "cell_type": "markdown",
   "id": "e0e363c0",
   "metadata": {},
   "source": [
    "# Step 1: Setup"
   ]
  },
  {
   "cell_type": "markdown",
   "id": "be8ea6f1-f00a-422e-a801-01e6c154853c",
   "metadata": {},
   "source": [
    "Install required package:"
   ]
  },
  {
   "cell_type": "code",
   "execution_count": 1,
   "id": "6a7dead8-fedc-4364-8f6e-6ea789386772",
   "metadata": {
    "ExecuteTime": {
     "end_time": "2022-05-09T11:40:29.068086Z",
     "start_time": "2022-05-09T11:40:26.508102Z"
    }
   },
   "outputs": [
    {
     "name": "stdout",
     "output_type": "stream",
     "text": [
      "Defaulting to user installation because normal site-packages is not writeable\n",
      "Looking in indexes: https://pypi.org/simple, https://www.piwheels.org/simple\n",
      "Requirement already satisfied: psycopg2_binary in /home/pi/.local/lib/python3.7/site-packages (2.9.3)\n",
      "Defaulting to user installation because normal site-packages is not writeable\n",
      "Looking in indexes: https://pypi.org/simple, https://www.piwheels.org/simple\n",
      "Requirement already satisfied: pandas in /home/pi/.local/lib/python3.7/site-packages (1.3.5)\n",
      "Requirement already satisfied: pytz>=2017.3 in /home/pi/.local/lib/python3.7/site-packages (from pandas) (2022.1)\n",
      "Requirement already satisfied: numpy>=1.17.3 in /home/pi/.local/lib/python3.7/site-packages (from pandas) (1.21.6)\n",
      "Requirement already satisfied: python-dateutil>=2.7.3 in /usr/local/lib/python3.7/dist-packages (from pandas) (2.8.2)\n",
      "Requirement already satisfied: six>=1.5 in /usr/lib/python3/dist-packages (from python-dateutil>=2.7.3->pandas) (1.12.0)\n"
     ]
    }
   ],
   "source": [
    "!pip install psycopg2_binary # version for macos\n",
    "!pip install pandas"
   ]
  },
  {
   "cell_type": "markdown",
   "id": "422b0586-6d08-47ff-a859-36985ad0e01b",
   "metadata": {},
   "source": [
    "Import the needed libraries:"
   ]
  },
  {
   "cell_type": "code",
   "execution_count": 2,
   "id": "3b90b15d",
   "metadata": {
    "ExecuteTime": {
     "end_time": "2022-05-09T11:40:30.053861Z",
     "start_time": "2022-05-09T11:40:29.070372Z"
    }
   },
   "outputs": [],
   "source": [
    "import psycopg2\n",
    "import pandas as pd\n",
    "import time\n",
    "import random\n",
    "from datetime import datetime\n",
    "from datetime import timezone\n",
    "from time import strftime, gmtime"
   ]
  },
  {
   "cell_type": "markdown",
   "id": "52e99e4a-f82d-4808-ae1a-3b742a2a55b3",
   "metadata": {},
   "source": [
    "The connect() function creates a new database session and returns a new instance of connection. To build a connection, you need the following data:\n",
    "\n",
    "- Username\n",
    "- Password\n",
    "- Host Name: This is the server name or Ip address on which databse is running\n",
    "- Database Name: Database name to which you want to connect\n",
    "- Port \n",
    "\n",
    "The cursor allows interaction with the database:\n",
    "\n",
    "- send commands to the database using execute() and executemany() methods.\n",
    "- retrieve data from the database using methods such as fetchone(), fetchmany(), fetchall(), or by iteration."
   ]
  },
  {
   "cell_type": "code",
   "execution_count": 3,
   "id": "52d06b84-bf00-44c0-8e6f-717838e21609",
   "metadata": {
    "ExecuteTime": {
     "end_time": "2022-05-09T11:40:30.782033Z",
     "start_time": "2022-05-09T11:40:30.055540Z"
    }
   },
   "outputs": [
    {
     "name": "stdout",
     "output_type": "stream",
     "text": [
      "Connection established\n"
     ]
    }
   ],
   "source": [
    "# create connection\n",
    "conn = psycopg2.connect(dbname='postgres', \n",
    "                        user='nimda@iot-zeiss-2504', \n",
    "                        host='iot-zeiss-2504.postgres.database.azure.com', \n",
    "                        password='leadml-2022', \n",
    "                        port='5432', \n",
    "                        sslmode='require')\n",
    "\n",
    "# create cursor\n",
    "cursor = conn.cursor()\n",
    "print(\"Connection established\")"
   ]
  },
  {
   "cell_type": "markdown",
   "id": "38098bf7-3f63-49df-8457-69249d433256",
   "metadata": {},
   "source": [
    "If you receive the message \"urrent transaction is aborted, commands ignored until end of transaction block\", then you have to start a new connection/cursor."
   ]
  },
  {
   "cell_type": "markdown",
   "id": "5f1024c1",
   "metadata": {},
   "source": [
    "# Step 2: Collection"
   ]
  },
  {
   "cell_type": "markdown",
   "id": "4b752212",
   "metadata": {
    "tags": []
   },
   "source": [
    "### Drop previous table of same name if one exists"
   ]
  },
  {
   "cell_type": "markdown",
   "id": "41a57fdd",
   "metadata": {},
   "source": [
    "In case you want to start over, you can delete your table\n",
    "\n",
    "**Important:**\n",
    "\n",
    "WITH THIS COMMAND YOU PERMANENTLY DELETE THE TABLE, MAKE SURE YOU ONLY DELETE THE TABLE YOU CREATED!!!\n",
    "\n",
    "**Please note:**\n",
    "\n",
    "Please replace the zero by the number of your group in the table name `test_group_0`"
   ]
  },
  {
   "cell_type": "code",
   "execution_count": 4,
   "id": "098de3cb",
   "metadata": {
    "ExecuteTime": {
     "end_time": "2022-05-09T11:40:30.853262Z",
     "start_time": "2022-05-09T11:40:30.790280Z"
    }
   },
   "outputs": [
    {
     "name": "stdout",
     "output_type": "stream",
     "text": [
      "Finished dropping table (if existed)\n"
     ]
    }
   ],
   "source": [
    "# ONLY RUN THIS CELL IN CASE YOU WANT TO DELETE YOUR TABLE\n",
    "\n",
    "cursor.execute(\"DROP TABLE IF EXISTS test_group_0;\")\n",
    "\n",
    "print(\"Finished dropping table (if existed)\")"
   ]
  },
  {
   "cell_type": "markdown",
   "id": "bae9690a",
   "metadata": {
    "tags": []
   },
   "source": [
    "### Create a table\n",
    "\n",
    "**Please note:**\n",
    "\n",
    "In the tutorial you will create a table named `test_group_0`. Please replace the zero by the number of your group."
   ]
  },
  {
   "cell_type": "markdown",
   "id": "711e51e2",
   "metadata": {},
   "source": [
    "Examples of columns of the table:\n",
    "<br>&emsp;    `id` is our primary key and will be increased automatically (natural number, first datapoint has id=0)\n",
    "<br>&emsp;    `air_sensor` could be the data of one of our sensors (decimal number)\n",
    "<br>&emsp;    `sound_sensor` could be the data of one of our sensors (decimal number)\n",
    "<br>&emsp;    `temperature_sensor` could be the data of one of our sensors (decimal number)\n",
    "<br>&emsp;    `date` is the date of the creation of the datapoint (form: 'year-month-day')\n",
    "<br>&emsp;    `time` is the time of creation of the datapoint (form: '00:00:00')"
   ]
  },
  {
   "cell_type": "code",
   "execution_count": 5,
   "id": "4972aeae",
   "metadata": {
    "ExecuteTime": {
     "end_time": "2022-05-09T11:40:31.286458Z",
     "start_time": "2022-05-09T11:40:30.856780Z"
    }
   },
   "outputs": [
    {
     "name": "stdout",
     "output_type": "stream",
     "text": [
      "Finished creating table\n"
     ]
    }
   ],
   "source": [
    "cursor.execute(\"\"\"\n",
    "CREATE TABLE test_group_0 (\n",
    "    id SERIAL PRIMARY KEY, \n",
    "    name_column1 FLOAT8, \n",
    "    name_column2 FLOAT8, \n",
    "    name_column3 FLOAT8, \n",
    "    date DATE, \n",
    "    time TIME\n",
    "    );\n",
    "\"\"\")\n",
    "           \n",
    "print(\"Finished creating table\")"
   ]
  },
  {
   "cell_type": "markdown",
   "id": "c44a8e60",
   "metadata": {
    "tags": []
   },
   "source": [
    "### Collect and insert data into the table"
   ]
  },
  {
   "cell_type": "code",
   "execution_count": 6,
   "id": "3ebbb965",
   "metadata": {
    "ExecuteTime": {
     "end_time": "2022-05-09T11:40:31.293728Z",
     "start_time": "2022-05-09T11:40:31.288672Z"
    }
   },
   "outputs": [],
   "source": [
    "# This is a helping function to generate random example values representing sensors data. \n",
    "# You only need it for demonstration purpose\n",
    "# Running the cell will create this function, but not execute it\n",
    "\n",
    "def collect_data():\n",
    "    data_source_1 = random.randint(0,100)\n",
    "    data_source_2 = random.randint(0,100)\n",
    "    data_source_3 = random.randint(0,100)\n",
    "    \n",
    "    return data_source_1, data_source_2, data_source_3"
   ]
  },
  {
   "cell_type": "code",
   "execution_count": 7,
   "id": "999cc121",
   "metadata": {
    "ExecuteTime": {
     "end_time": "2022-05-09T11:40:41.333261Z",
     "start_time": "2022-05-09T11:40:31.296577Z"
    },
    "scrolled": true
   },
   "outputs": [
    {
     "name": "stdout",
     "output_type": "stream",
     "text": [
      "i = 1 \t data_source_1 = 11 \t data_source_2 = 19 \t data_source_3 = 74 \t date_value = 2022-05-11 \t time_value = 22:05:43\n",
      "i = 2 \t data_source_1 = 2 \t data_source_2 = 7 \t data_source_3 = 74 \t date_value = 2022-05-11 \t time_value = 22:05:44\n",
      "i = 3 \t data_source_1 = 65 \t data_source_2 = 99 \t data_source_3 = 89 \t date_value = 2022-05-11 \t time_value = 22:05:45\n",
      "i = 4 \t data_source_1 = 39 \t data_source_2 = 29 \t data_source_3 = 62 \t date_value = 2022-05-11 \t time_value = 22:05:46\n"
     ]
    },
    {
     "ename": "KeyboardInterrupt",
     "evalue": "",
     "output_type": "error",
     "traceback": [
      "\u001b[0;31m---------------------------------------------------------------------------\u001b[0m",
      "\u001b[0;31mKeyboardInterrupt\u001b[0m                         Traceback (most recent call last)",
      "\u001b[0;32m/tmp/ipykernel_2018/2210686561.py\u001b[0m in \u001b[0;36m<module>\u001b[0;34m\u001b[0m\n\u001b[1;32m     25\u001b[0m \u001b[0;34m\u001b[0m\u001b[0m\n\u001b[1;32m     26\u001b[0m     \u001b[0;31m# wait for 1 second and increase counter i by 1\u001b[0m\u001b[0;34m\u001b[0m\u001b[0;34m\u001b[0m\u001b[0;34m\u001b[0m\u001b[0m\n\u001b[0;32m---> 27\u001b[0;31m     \u001b[0mtime\u001b[0m\u001b[0;34m.\u001b[0m\u001b[0msleep\u001b[0m\u001b[0;34m(\u001b[0m\u001b[0;36m1\u001b[0m\u001b[0;34m)\u001b[0m\u001b[0;34m\u001b[0m\u001b[0;34m\u001b[0m\u001b[0m\n\u001b[0m\u001b[1;32m     28\u001b[0m     \u001b[0mi\u001b[0m \u001b[0;34m+=\u001b[0m \u001b[0;36m1\u001b[0m\u001b[0;34m\u001b[0m\u001b[0;34m\u001b[0m\u001b[0m\n\u001b[1;32m     29\u001b[0m \u001b[0;34m\u001b[0m\u001b[0m\n",
      "\u001b[0;31mKeyboardInterrupt\u001b[0m: "
     ]
    }
   ],
   "source": [
    "# set counter i to 1\n",
    "i = 1\n",
    "\n",
    "# collect 10 data points\n",
    "while i<=10:    \n",
    "    # get 'fake' sensor value from collect_data function\n",
    "    data_source_1, data_source_2, data_source_3 = collect_data()\n",
    "    \n",
    "    # assign date and time\n",
    "    datetime_value = strftime(\"%Y-%m-%d %H:%M:%S\", gmtime())\n",
    "    date_value = datetime.today().strftime(\"%Y-%m-%d\")\n",
    "    time_value = datetime.today().strftime(\"%H:%M:%S\")\n",
    "    \n",
    "    # insert data into the database (don't forget to replace \"test_group_0\" with your group number)\n",
    "    cursor.execute(\"\"\"\n",
    "    INSERT INTO test_group_0 (\n",
    "        name_column1, \n",
    "        name_column2, \n",
    "        name_column3,\n",
    "        date, \n",
    "        time) \n",
    "    VALUES (%s, %s, %s, %s, %s);\"\"\", (data_source_1, data_source_2, data_source_3, date_value, time_value))\n",
    "    \n",
    "    print(f\"i = {i} \\t data_source_1 = {data_source_1} \\t data_source_2 = {data_source_2} \\t data_source_3 = {data_source_3} \\t date_value = {date_value} \\t time_value = {time_value}\")\n",
    "    \n",
    "    # wait for 1 second and increase counter i by 1\n",
    "    time.sleep(1)\n",
    "    i += 1\n",
    "    "
   ]
  },
  {
   "cell_type": "markdown",
   "id": "3d2bf440",
   "metadata": {
    "ExecuteTime": {
     "end_time": "2022-05-02T06:25:52.781385Z",
     "start_time": "2022-05-02T06:25:52.776422Z"
    },
    "tags": []
   },
   "source": [
    "# Step 3: Visualization"
   ]
  },
  {
   "cell_type": "markdown",
   "id": "aeb792ee",
   "metadata": {},
   "source": [
    "### Read data from database"
   ]
  },
  {
   "cell_type": "code",
   "execution_count": 8,
   "id": "b12d905c",
   "metadata": {
    "ExecuteTime": {
     "end_time": "2022-05-09T11:40:41.397717Z",
     "start_time": "2022-05-09T11:40:41.337312Z"
    }
   },
   "outputs": [
    {
     "data": {
      "text/html": [
       "<div>\n",
       "<style scoped>\n",
       "    .dataframe tbody tr th:only-of-type {\n",
       "        vertical-align: middle;\n",
       "    }\n",
       "\n",
       "    .dataframe tbody tr th {\n",
       "        vertical-align: top;\n",
       "    }\n",
       "\n",
       "    .dataframe thead th {\n",
       "        text-align: right;\n",
       "    }\n",
       "</style>\n",
       "<table border=\"1\" class=\"dataframe\">\n",
       "  <thead>\n",
       "    <tr style=\"text-align: right;\">\n",
       "      <th></th>\n",
       "      <th>name_column1</th>\n",
       "      <th>name_column2</th>\n",
       "      <th>name_column3</th>\n",
       "      <th>date</th>\n",
       "      <th>time</th>\n",
       "    </tr>\n",
       "  </thead>\n",
       "  <tbody>\n",
       "    <tr>\n",
       "      <th>0</th>\n",
       "      <td>11.0</td>\n",
       "      <td>19.0</td>\n",
       "      <td>74.0</td>\n",
       "      <td>2022-05-11</td>\n",
       "      <td>22:05:43</td>\n",
       "    </tr>\n",
       "    <tr>\n",
       "      <th>1</th>\n",
       "      <td>2.0</td>\n",
       "      <td>7.0</td>\n",
       "      <td>74.0</td>\n",
       "      <td>2022-05-11</td>\n",
       "      <td>22:05:44</td>\n",
       "    </tr>\n",
       "    <tr>\n",
       "      <th>2</th>\n",
       "      <td>65.0</td>\n",
       "      <td>99.0</td>\n",
       "      <td>89.0</td>\n",
       "      <td>2022-05-11</td>\n",
       "      <td>22:05:45</td>\n",
       "    </tr>\n",
       "    <tr>\n",
       "      <th>3</th>\n",
       "      <td>39.0</td>\n",
       "      <td>29.0</td>\n",
       "      <td>62.0</td>\n",
       "      <td>2022-05-11</td>\n",
       "      <td>22:05:46</td>\n",
       "    </tr>\n",
       "  </tbody>\n",
       "</table>\n",
       "</div>"
      ],
      "text/plain": [
       "   name_column1  name_column2  name_column3        date      time\n",
       "0          11.0          19.0          74.0  2022-05-11  22:05:43\n",
       "1           2.0           7.0          74.0  2022-05-11  22:05:44\n",
       "2          65.0          99.0          89.0  2022-05-11  22:05:45\n",
       "3          39.0          29.0          62.0  2022-05-11  22:05:46"
      ]
     },
     "execution_count": 8,
     "metadata": {},
     "output_type": "execute_result"
    }
   ],
   "source": [
    "# Fetch all rows from table (here 'inventory')\n",
    "cursor.execute(\"\"\"\n",
    "    SELECT \n",
    "        name_column1, \n",
    "        name_column2, \n",
    "        name_column3,\n",
    "        date, \n",
    "        time \n",
    "    FROM test_group_0;\n",
    "    \"\"\")\n",
    "    \n",
    "\n",
    "rows = cursor.fetchall()\n",
    "    \n",
    "# Create DataFrame with rows\n",
    "df = pd.DataFrame(rows, columns=[\"name_column1\", \"name_column2\", \"name_column3\", \"date\", \"time\"])\n",
    "\n",
    "# show the first 10 rows of it\n",
    "df.head(10)"
   ]
  },
  {
   "cell_type": "markdown",
   "id": "86659584",
   "metadata": {},
   "source": [
    "### Plot data "
   ]
  },
  {
   "cell_type": "code",
   "execution_count": 9,
   "id": "11596b35",
   "metadata": {
    "ExecuteTime": {
     "end_time": "2022-05-09T11:40:41.712552Z",
     "start_time": "2022-05-09T11:40:41.399869Z"
    }
   },
   "outputs": [
    {
     "data": {
      "text/plain": [
       "<matplotlib.axes._subplots.AxesSubplot at 0xaa565390>"
      ]
     },
     "execution_count": 9,
     "metadata": {},
     "output_type": "execute_result"
    },
    {
     "data": {
      "image/png": "[encoded data removed]",
      "text/plain": [
       "<Figure size 432x288 with 1 Axes>"
      ]
     },
     "metadata": {
      "needs_background": "light"
     },
     "output_type": "display_data"
    }
   ],
   "source": [
    "# create a histogram of the column 'air_sensor'\n",
    "df[\"name_column1\"].hist()"
   ]
  },
  {
   "cell_type": "markdown",
   "id": "6f514ec9",
   "metadata": {},
   "source": [
    "# Step 4: Close the connection to the database\n",
    "\n",
    "Don't forget to close your connection to the database, once you are done."
   ]
  },
  {
   "cell_type": "code",
   "execution_count": 10,
   "id": "f7102bf1",
   "metadata": {
    "ExecuteTime": {
     "end_time": "2022-05-09T11:40:41.949868Z",
     "start_time": "2022-05-09T11:40:41.713398Z"
    }
   },
   "outputs": [
    {
     "name": "stdout",
     "output_type": "stream",
     "text": [
      "connection closed\n"
     ]
    }
   ],
   "source": [
    "conn.commit()\n",
    "cursor.close()\n",
    "conn.close()\n",
    "print(\"connection closed\")"
   ]
  },
  {
   "cell_type": "markdown",
   "id": "7ef9618a",
   "metadata": {
    "tags": []
   },
   "source": [
    "# Step 5: Your use-case"
   ]
  },
  {
   "cell_type": "markdown",
   "id": "6715521f",
   "metadata": {},
   "source": [
    "You have completed the tutorial and you are now ready to go up and adjust the code according to your use-case. Good Luck :-)"
   ]
  }
 ],
 "metadata": {
  "kernelspec": {
   "display_name": "Python 3 (ipykernel)",
   "language": "python",
   "name": "python3"
  },
  "language_info": {
   "codemirror_mode": {
    "name": "ipython",
    "version": 3
   },
   "file_extension": ".py",
   "mimetype": "text/x-python",
   "name": "python",
   "nbconvert_exporter": "python",
   "pygments_lexer": "ipython3",
   "version": "3.7.3"
  },
  "toc": {
   "base_numbering": 1,
   "nav_menu": {},
   "number_sections": true,
   "sideBar": true,
   "skip_h1_title": false,
   "title_cell": "Table of Contents",
   "title_sidebar": "Contents",
   "toc_cell": false,
   "toc_position": {},
   "toc_section_display": true,
   "toc_window_display": false
  }
 },
 "nbformat": 4,
 "nbformat_minor": 5
}
